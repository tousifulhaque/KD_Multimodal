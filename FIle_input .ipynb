{
 "cells": [
  {
   "cell_type": "code",
   "execution_count": 7,
   "id": "2a4589f3",
   "metadata": {},
   "outputs": [],
   "source": [
    "import glob\n",
    "import pandas as pd\n",
    "import numpy as np\n",
    "import matplotlib.pyplot as plt\n",
    "from scipy.stats import norm\n",
    "import statistics\n",
    "import tensorflow as tf\n",
    "import re"
   ]
  },
  {
   "cell_type": "code",
   "execution_count": 2,
   "id": "77b7ae9f",
   "metadata": {},
   "outputs": [
    {
     "name": "stdout",
     "output_type": "stream",
     "text": [
      "(3601, 500)\n",
      "(1320, 500)\n",
      "(3601, 500, 1)\n"
     ]
    }
   ],
   "source": [
    "import numpy as np\n",
    "\n",
    "\n",
    "def readucr(filename):\n",
    "    data = np.loadtxt(filename, delimiter=\"\\t\")\n",
    "    y = data[:, 0]\n",
    "    x = data[:, 1:]\n",
    "    return x, y.astype(int)\n",
    "\n",
    "\n",
    "root_url = \"https://raw.githubusercontent.com/hfawaz/cd-diagram/master/FordA/\"\n",
    "\n",
    "x_train, y_train = readucr(root_url + \"FordA_TRAIN.tsv\")\n",
    "x_test, y_test = readucr(root_url + \"FordA_TEST.tsv\")\n",
    "\n",
    "print(x_train.shape)\n",
    "print(x_test.shape)\n",
    "x_train = x_train.reshape((x_train.shape[0], x_train.shape[1], 1))\n",
    "x_test = x_test.reshape((x_test.shape[0], x_test.shape[1], 1))\n",
    "\n",
    "n_classes = len(np.unique(y_train))\n",
    "\n",
    "idx = np.random.permutation(len(x_train))\n",
    "x_train = x_train[idx]\n",
    "y_train = y_train[idx]\n",
    "\n",
    "y_train[y_train == -1] = 0\n",
    "y_test[y_test == -1] = 0\n",
    "\n",
    "print(x_train.shape)\n"
   ]
  },
  {
   "cell_type": "code",
   "execution_count": 8,
   "id": "266b76ad",
   "metadata": {},
   "outputs": [],
   "source": [
    "from tensorflow.keras.layers import MultiHeadAttention, Embedding"
   ]
  },
  {
   "cell_type": "code",
   "execution_count": 11,
   "id": "d1168b9b",
   "metadata": {},
   "outputs": [],
   "source": [
    "fall_files = glob.glob('/Users/tousif/Lstm_transformer/Fall/**.xlsx')\n",
    "adl_files = glob.glob('/Users/tousif/Lstm_transformer/ADL/***.xlsx')"
   ]
  },
  {
   "cell_type": "code",
   "execution_count": 12,
   "id": "eb5e5768",
   "metadata": {},
   "outputs": [],
   "source": [
    "all_file_path = fall_files + adl_files"
   ]
  },
  {
   "cell_type": "code",
   "execution_count": 18,
   "id": "a850f891",
   "metadata": {},
   "outputs": [
    {
     "name": "stdout",
     "output_type": "stream",
     "text": [
      "False\n"
     ]
    }
   ],
   "source": [
    "fall_pattern = re.compile(\"Fall\")\n",
    "\n",
    "if fall_pattern.match(all_file_path[100]):\n",
    "    print('True')\n",
    "else:\n",
    "    print('False')"
   ]
  },
  {
   "cell_type": "code",
   "execution_count": 21,
   "id": "ced6d16a",
   "metadata": {},
   "outputs": [
    {
     "name": "stdout",
     "output_type": "stream",
     "text": [
      "Metal device set to: Apple M1 Pro\n"
     ]
    },
    {
     "name": "stderr",
     "output_type": "stream",
     "text": [
      "2022-11-20 17:28:11.875107: I tensorflow/core/common_runtime/pluggable_device/pluggable_device_factory.cc:306] Could not identify NUMA node of platform GPU ID 0, defaulting to 0. Your kernel may not have been built with NUMA support.\n",
      "2022-11-20 17:28:11.875737: I tensorflow/core/common_runtime/pluggable_device/pluggable_device_factory.cc:272] Created TensorFlow device (/job:localhost/replica:0/task:0/device:GPU:0 with 0 MB memory) -> physical PluggableDevice (device: 0, name: METAL, pci bus id: <undefined>)\n"
     ]
    }
   ],
   "source": [
    "file_len = []\n",
    "trials = []\n",
    "labels = []\n",
    "fall_pattern = re.compile(\"Fall\")\n",
    "for file_path in all_file_path:\n",
    "    \n",
    "    #checking if the excel has 2 sheets or not\n",
    "    label = None\n",
    "    if fall_pattern.search(file_path):\n",
    "        label = 1\n",
    "    else:\n",
    "        label = 0\n",
    "                 \n",
    "    if len (pd.ExcelFile(file_path).sheet_names) == 2:\n",
    "        fall_df = pd.read_excel(file_path, sheet_name = -1)\n",
    "        df = pd.read_excel(fall_files[1], sheet_name=-1)\n",
    "        df = df.iloc[:, :-1]\n",
    "        null_col = df[df.isnull().any(axis = 1)].index.to_list()\n",
    "        \n",
    "        #calculating how many null segments we have \n",
    "        null_col = df[df.isnull().any(axis = 1)].index.to_list()\n",
    "        null_seg = len(null_col)//10\n",
    "        trial_start_lst = null_col[9::10]\n",
    "        trial_end_lst = null_col[10::10]\n",
    "        \n",
    "        for i in range(len(null_col)//10 + 1):\n",
    "            trial = None\n",
    "            if i == 0 :\n",
    "                trial = df.iloc[0:null_col[1]-1, 3:6]\n",
    "            elif i == null_seg :\n",
    "                trial = df.iloc[trial_start_lst[-1]+1:, 3:6]\n",
    "            else: \n",
    "                trial_end = trial_end_lst[i-1]\n",
    "                trial_start = trial_start_lst[i-1] + 1\n",
    "                trial = df.iloc[trial_start : trial_end-1 , 3:6].values\n",
    "                trial = tf.convert_to_tensor(trial, dtype = tf.float32)\n",
    "            labels.append(label)\n",
    "            trials.append(trial)\n",
    "trials = tf.keras.utils.pad_sequences(trials, maxlen= 512, value = float('-inf') , dtype = float, padding = 'post' )\n",
    "\n",
    "#transposing the trials \n",
    "# trials = tf.transpose(trials, perm = [0,2,1])\n",
    "# add a "
   ]
  },
  {
   "cell_type": "code",
   "execution_count": 23,
   "id": "95eddbb6",
   "metadata": {},
   "outputs": [
    {
     "data": {
      "text/plain": [
       "(1020, 512, 3)"
      ]
     },
     "execution_count": 23,
     "metadata": {},
     "output_type": "execute_result"
    }
   ],
   "source": [
    "trials.shape"
   ]
  },
  {
   "cell_type": "code",
   "execution_count": null,
   "id": "4b0b553d",
   "metadata": {},
   "outputs": [],
   "source": [
    "#Git commit\n",
    "!git add .\n",
    "!git commit -m \"Feat: Tranposing matrix\"\n",
    "!git push \n",
    "\n"
   ]
  },
  {
   "cell_type": "code",
   "execution_count": 56,
   "id": "f84c60b8",
   "metadata": {},
   "outputs": [],
   "source": [
    "masking_layer = tf.keras.layers.Masking(mask_value = float('-inf'), input_shape = (512, 3))"
   ]
  },
  {
   "cell_type": "code",
   "execution_count": 53,
   "id": "b0071777",
   "metadata": {},
   "outputs": [],
   "source": [
    "masking_layer = tf.keras.layers.Embedding(input_dim = 512, output_dim = 64)"
   ]
  },
  {
   "cell_type": "code",
   "execution_count": 54,
   "id": "eb2696fd",
   "metadata": {},
   "outputs": [],
   "source": [
    "x = masking_layer(trials)"
   ]
  },
  {
   "cell_type": "code",
   "execution_count": 55,
   "id": "15488502",
   "metadata": {},
   "outputs": [
    {
     "data": {
      "text/plain": [
       "TensorShape([460, 512, 3, 64])"
      ]
     },
     "execution_count": 55,
     "metadata": {},
     "output_type": "execute_result"
    }
   ],
   "source": [
    "x.shape"
   ]
  },
  {
   "cell_type": "code",
   "execution_count": 57,
   "id": "4226cece",
   "metadata": {},
   "outputs": [],
   "source": [
    "x = masking_layer.compute_mask(trials)"
   ]
  },
  {
   "cell_type": "code",
   "execution_count": 58,
   "id": "786a19ff",
   "metadata": {},
   "outputs": [
    {
     "data": {
      "text/plain": [
       "TensorShape([460, 512])"
      ]
     },
     "execution_count": 58,
     "metadata": {},
     "output_type": "execute_result"
    }
   ],
   "source": [
    "x.shape"
   ]
  },
  {
   "cell_type": "code",
   "execution_count": 68,
   "id": "742be69b",
   "metadata": {},
   "outputs": [
    {
     "data": {
      "text/plain": [
       "<tf.Tensor: shape=(512,), dtype=bool, numpy=\n",
       "array([ True,  True,  True,  True,  True,  True,  True,  True,  True,\n",
       "        True,  True,  True,  True,  True,  True,  True,  True,  True,\n",
       "        True,  True,  True,  True,  True,  True,  True,  True,  True,\n",
       "        True,  True,  True,  True,  True,  True,  True,  True,  True,\n",
       "        True,  True,  True,  True,  True,  True,  True,  True,  True,\n",
       "        True,  True,  True,  True,  True,  True,  True,  True,  True,\n",
       "        True,  True,  True,  True,  True,  True,  True,  True,  True,\n",
       "        True,  True,  True,  True,  True,  True,  True,  True,  True,\n",
       "        True,  True,  True,  True,  True,  True,  True,  True,  True,\n",
       "        True,  True,  True,  True,  True,  True,  True,  True,  True,\n",
       "        True,  True,  True,  True,  True,  True,  True,  True,  True,\n",
       "        True,  True,  True,  True,  True,  True,  True,  True,  True,\n",
       "        True,  True,  True,  True,  True,  True,  True,  True,  True,\n",
       "        True,  True,  True,  True,  True,  True,  True,  True,  True,\n",
       "        True,  True,  True,  True,  True,  True,  True,  True,  True,\n",
       "        True,  True,  True,  True,  True,  True,  True,  True,  True,\n",
       "        True,  True,  True,  True,  True,  True,  True,  True,  True,\n",
       "        True,  True,  True,  True,  True,  True,  True,  True,  True,\n",
       "        True,  True,  True,  True,  True,  True,  True,  True,  True,\n",
       "        True,  True,  True,  True,  True,  True,  True,  True,  True,\n",
       "        True,  True,  True,  True,  True,  True,  True,  True,  True,\n",
       "        True,  True,  True,  True,  True,  True,  True,  True,  True,\n",
       "        True,  True,  True,  True,  True,  True,  True,  True,  True,\n",
       "        True,  True,  True,  True,  True,  True,  True,  True,  True,\n",
       "       False, False, False, False, False, False, False, False, False,\n",
       "       False, False, False, False, False, False, False, False, False,\n",
       "       False, False, False, False, False, False, False, False, False,\n",
       "       False, False, False, False, False, False, False, False, False,\n",
       "       False, False, False, False, False, False, False, False, False,\n",
       "       False, False, False, False, False, False, False, False, False,\n",
       "       False, False, False, False, False, False, False, False, False,\n",
       "       False, False, False, False, False, False, False, False, False,\n",
       "       False, False, False, False, False, False, False, False, False,\n",
       "       False, False, False, False, False, False, False, False, False,\n",
       "       False, False, False, False, False, False, False, False, False,\n",
       "       False, False, False, False, False, False, False, False, False,\n",
       "       False, False, False, False, False, False, False, False, False,\n",
       "       False, False, False, False, False, False, False, False, False,\n",
       "       False, False, False, False, False, False, False, False, False,\n",
       "       False, False, False, False, False, False, False, False, False,\n",
       "       False, False, False, False, False, False, False, False, False,\n",
       "       False, False, False, False, False, False, False, False, False,\n",
       "       False, False, False, False, False, False, False, False, False,\n",
       "       False, False, False, False, False, False, False, False, False,\n",
       "       False, False, False, False, False, False, False, False, False,\n",
       "       False, False, False, False, False, False, False, False, False,\n",
       "       False, False, False, False, False, False, False, False, False,\n",
       "       False, False, False, False, False, False, False, False, False,\n",
       "       False, False, False, False, False, False, False, False, False,\n",
       "       False, False, False, False, False, False, False, False, False,\n",
       "       False, False, False, False, False, False, False, False, False,\n",
       "       False, False, False, False, False, False, False, False, False,\n",
       "       False, False, False, False, False, False, False, False, False,\n",
       "       False, False, False, False, False, False, False, False, False,\n",
       "       False, False, False, False, False, False, False, False, False,\n",
       "       False, False, False, False, False, False, False, False, False,\n",
       "       False, False, False, False, False, False, False, False])>"
      ]
     },
     "execution_count": 68,
     "metadata": {},
     "output_type": "execute_result"
    }
   ],
   "source": [
    "x[9]"
   ]
  },
  {
   "cell_type": "code",
   "execution_count": null,
   "id": "20a27786",
   "metadata": {},
   "outputs": [],
   "source": [
    "from tensorflow.keras.layers import Add, Dense, Dropout, MultiHeadAttention, LayerNormalization, Layer, Normalization\n",
    "from tensorflow.keras.optimizers import Adam\n",
    "from tensorflow.keras import Model\n",
    "from tensorflow.keras.initializers import TruncatedNormal\n",
    "from tensorflow.keras.callbacks import EarlyStopping, LearningRateScheduler, Callback\n",
    "from tensorflow_addons.optimizers import AdamW\n",
    "from wandb.keras import WandbCallback\n",
    "from sklearn.model_selection import train_test_split \n",
    "\n",
    "import math\n",
    "import wandb\n",
    "import numpy as np\n",
    "import pandas as pd\n",
    "import tensorflow as tf\n",
    "import seaborn as sns\n",
    "import matplotlib.pyplot as plt"
   ]
  }
 ],
 "metadata": {
  "kernelspec": {
   "display_name": "Python 3 (ipykernel)",
   "language": "python",
   "name": "python3"
  },
  "language_info": {
   "codemirror_mode": {
    "name": "ipython",
    "version": 3
   },
   "file_extension": ".py",
   "mimetype": "text/x-python",
   "name": "python",
   "nbconvert_exporter": "python",
   "pygments_lexer": "ipython3",
   "version": "3.9.6"
  }
 },
 "nbformat": 4,
 "nbformat_minor": 5
}
