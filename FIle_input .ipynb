{
 "cells": [
  {
   "cell_type": "code",
   "execution_count": 36,
   "id": "2a4589f3",
   "metadata": {},
   "outputs": [],
   "source": [
    "import glob\n",
    "import pandas as pd\n",
    "import numpy as np\n",
    "import matplotlib.pyplot as plt\n",
    "from scipy.stats import norm\n",
    "import statistics\n",
    "import tensorflow as tf\n",
    "import re\n",
    "import os"
   ]
  },
  {
   "cell_type": "code",
   "execution_count": 37,
   "id": "266b76ad",
   "metadata": {},
   "outputs": [],
   "source": [
    "from tensorflow.keras.layers import MultiHeadAttention, Embedding"
   ]
  },
  {
   "cell_type": "code",
   "execution_count": 2,
   "id": "3f820ea4",
   "metadata": {},
   "outputs": [],
   "source": [
    "# os.path.joi\n",
    "fall = os.path.join(os.getcwd() , 'datasets/Fall/***.xlsx')\n",
    "adl = os.path.join(os.getcwd(), 'datasets/ADL/***.xlsx')"
   ]
  },
  {
   "cell_type": "code",
   "execution_count": 3,
   "id": "d1168b9b",
   "metadata": {},
   "outputs": [],
   "source": [
    "fall_files = glob.glob(fall)\n",
    "adl_files = glob.glob(adl)"
   ]
  },
  {
   "cell_type": "code",
   "execution_count": 5,
   "id": "eb5e5768",
   "metadata": {},
   "outputs": [],
   "source": [
    "all_file_path = fall_files + adl_files"
   ]
  },
  {
   "cell_type": "code",
   "execution_count": 6,
   "id": "ced6d16a",
   "metadata": {},
   "outputs": [
    {
     "name": "stderr",
     "output_type": "stream",
     "text": [
      "2022-11-24 05:01:49.409246: I tensorflow/core/platform/cpu_feature_guard.cc:193] This TensorFlow binary is optimized with oneAPI Deep Neural Network Library (oneDNN) to use the following CPU instructions in performance-critical operations:  AVX2 AVX512F FMA\n",
      "To enable them in other operations, rebuild TensorFlow with the appropriate compiler flags.\n",
      "2022-11-24 05:01:50.119714: I tensorflow/core/common_runtime/gpu/gpu_device.cc:1616] Created device /job:localhost/replica:0/task:0/device:GPU:0 with 7372 MB memory:  -> device: 0, name: NVIDIA GeForce GTX 1080, pci bus id: 0000:9e:00.0, compute capability: 6.1\n"
     ]
    }
   ],
   "source": [
    "file_len = []\n",
    "trials = []\n",
    "labels = []\n",
    "fall_pattern = re.compile(\"Fall\")\n",
    "for file_path in all_file_path:\n",
    "    \n",
    "    #checking if the excel has 2 sheets or not\n",
    "    label = None\n",
    "    if fall_pattern.search(file_path):\n",
    "        label = 1\n",
    "    else:\n",
    "        label = 0\n",
    "                 \n",
    "    if len (pd.ExcelFile(file_path).sheet_names) == 2:\n",
    "        fall_df = pd.read_excel(file_path, sheet_name = -1)\n",
    "        df = pd.read_excel(fall_files[1], sheet_name=-1)\n",
    "        df = df.iloc[:, :-1]\n",
    "        null_col = df[df.isnull().any(axis = 1)].index.to_list()\n",
    "        \n",
    "        #calculating how many null segments we have \n",
    "        null_col = df[df.isnull().any(axis = 1)].index.to_list()\n",
    "        null_seg = len(null_col)//10\n",
    "        trial_start_lst = null_col[9::10]\n",
    "        trial_end_lst = null_col[10::10]\n",
    "        \n",
    "        for i in range(len(null_col)//10 + 1):\n",
    "            trial = None\n",
    "            if i == 0 :\n",
    "                trial = df.iloc[0:null_col[1]-1, 3:6]\n",
    "            elif i == null_seg :\n",
    "                trial = df.iloc[trial_start_lst[-1]+1:, 3:6]\n",
    "            else: \n",
    "                trial_end = trial_end_lst[i-1]\n",
    "                trial_start = trial_start_lst[i-1] + 1\n",
    "                trial = df.iloc[trial_start : trial_end-1 , 3:6].values\n",
    "                trial = tf.convert_to_tensor(trial, dtype = tf.float32)\n",
    "            labels.append(label)\n",
    "            trials.append(trial)\n",
    "trials = tf.keras.utils.pad_sequences(trials, maxlen= 512, value = float('-inf') , dtype = float, padding = 'post' )\n",
    "\n",
    "#transposing the trials \n",
    "trials = tf.transpose(trials, perm = [0,2,1])\n"
   ]
  },
  {
   "cell_type": "code",
   "execution_count": 7,
   "id": "d7e0e6d4",
   "metadata": {},
   "outputs": [],
   "source": [
    "array = trials.numpy()"
   ]
  },
  {
   "cell_type": "code",
   "execution_count": 10,
   "id": "bd4284a2",
   "metadata": {},
   "outputs": [],
   "source": [
    "unique , count = np.unique(array, return_counts=True)\n"
   ]
  },
  {
   "cell_type": "code",
   "execution_count": 15,
   "id": "4d43ddc3",
   "metadata": {},
   "outputs": [],
   "source": [
    "a = dict(zip(unique, count))"
   ]
  },
  {
   "cell_type": "code",
   "execution_count": 20,
   "id": "844666ae",
   "metadata": {},
   "outputs": [],
   "source": [
    "a = [[1,24,3], [1,]]"
   ]
  },
  {
   "cell_type": "code",
   "execution_count": 22,
   "id": "2e843525",
   "metadata": {},
   "outputs": [],
   "source": [
    "b = tf.keras.utils.pad_sequences(a, maxlen = 1, value = 0, padding = 'post')"
   ]
  },
  {
   "cell_type": "code",
   "execution_count": 23,
   "id": "a59892ad",
   "metadata": {},
   "outputs": [
    {
     "data": {
      "text/plain": [
       "array([[3],\n",
       "       [1]], dtype=int32)"
      ]
     },
     "execution_count": 23,
     "metadata": {},
     "output_type": "execute_result"
    }
   ],
   "source": [
    " tf.keras.Dense"
   ]
  },
  {
   "cell_type": "code",
   "execution_count": null,
   "id": "4659c1a2",
   "metadata": {},
   "outputs": [],
   "source": []
  },
  {
   "cell_type": "code",
   "execution_count": 24,
   "id": "4b0b553d",
   "metadata": {},
   "outputs": [
    {
     "name": "stdout",
     "output_type": "stream",
     "text": [
      "[main 8b74328] Feat: Creating the Full Dataset\n",
      " 4 files changed, 5356 insertions(+), 156087 deletions(-)\n",
      " create mode 100644 raw.githubusercontent.com/hfawaz/cd-diagram/master/FordA/FordA_TEST.tsv\n",
      " create mode 100644 raw.githubusercontent.com/hfawaz/cd-diagram/master/FordA/FordA_TRAIN.tsv\n",
      "Enumerating objects: 16, done.\n",
      "Counting objects: 100% (16/16), done.\n",
      "Delta compression using up to 8 threads\n",
      "Compressing objects: 100% (8/8), done.\n",
      "Writing objects: 100% (12/12), 11.12 MiB | 1.78 MiB/s, done.\n",
      "Total 12 (delta 2), reused 0 (delta 0), pack-reused 0\n",
      "remote: Resolving deltas: 100% (2/2), completed with 1 local object.\u001b[K\n",
      "To https://github.com/tousifulhaque/KD_Multimodal.git\n",
      "   c23d055..8b74328  main -> main\n"
     ]
    }
   ],
   "source": [
    "#Git commit\n",
    "!git add .\n",
    "!git commit -m \"Feat: Creating the Full Dataset\"\n",
    "!git push \n",
    "\n"
   ]
  },
  {
   "cell_type": "code",
   "execution_count": 56,
   "id": "f84c60b8",
   "metadata": {},
   "outputs": [],
   "source": [
    "masking_layer = tf.keras.layers.Masking(mask_value = float('-inf'), input_shape = (512, 3))"
   ]
  },
  {
   "cell_type": "code",
   "execution_count": 53,
   "id": "b0071777",
   "metadata": {},
   "outputs": [],
   "source": [
    "masking_layer = tf.keras.layers.Embedding(input_dim = 512, output_dim = 64)"
   ]
  },
  {
   "cell_type": "code",
   "execution_count": 27,
   "id": "cffefff3",
   "metadata": {},
   "outputs": [],
   "source": [
    "np.savez_compressed(\"fall_detection_dataset\", trials=trials, labels=labels)"
   ]
  },
  {
   "cell_type": "code",
   "execution_count": 47,
   "id": "b408fc60",
   "metadata": {},
   "outputs": [],
   "source": [
    "\n",
    "\n",
    "paths = []\n",
    "def preprocessing():\n",
    "    fall = os.path.join(os.getcwd() , 'datasets/Fall/***.xlsx')\n",
    "    adl = os.path.join(os.getcwd(), 'datasets/ADL/***.xlsx')\n",
    "    fall_files = glob.glob(fall)\n",
    "    adl_files = glob.glob(adl)\n",
    "    all_file_path = fall_files + adl_files\n",
    "\n",
    "    fall_pattern = re.compile(\"Fall\")\n",
    "    for file_path in adl_files:\n",
    "        trials = []\n",
    "        labels = []\n",
    "        length = []\n",
    "        #checking if the excel has 2 sheets or not\n",
    "        label = None\n",
    "        if fall_pattern.search(file_path):\n",
    "            label = 1\n",
    "        else:\n",
    "            label = 0\n",
    "                    \n",
    "        if len (pd.ExcelFile(file_path).sheet_names) == 2:\n",
    "            df = pd.read_excel(file_path, sheet_name=-1)\n",
    "            df = df.iloc[:, :-1]\n",
    "            null_col = df[df.isnull().any(axis = 1)].index.to_list()\n",
    "            \n",
    "            #calculating how many null segments we have \n",
    "            null_col = df[df.isnull().any(axis = 1)].index.to_list()\n",
    "            null_seg = len(null_col)//10\n",
    "            if null_seg < 4 : \n",
    "                print(file_path)\n",
    "                print(null_col)\n",
    "#             if file_path == '/home/Students/bgu9/KD_Transformer/datasets/ADL/S sit_Hip_2022-07-21T10.12.26.017_E59CF70AD2E7_Accelerometer_32.000Hz_1.7.3.xlsx':\n",
    "#                 print(df)\n",
    "            trial_start_lst = null_col[9::10]\n",
    "            trial_end_lst = null_col[10::10]\n",
    "\n",
    "            for i in range(len(null_col)//10 + 1):\n",
    "                trial = None\n",
    "                if i == 0 :\n",
    "\n",
    "                    trial = df.iloc[0:null_col[1]-1, 3:6]\n",
    "                elif i == null_seg :\n",
    "                    trial = df.iloc[trial_start_lst[-1]+1:, 3:6]\n",
    "                else: \n",
    "                    trial_end = trial_end_lst[i-1]\n",
    "                    trial_start = trial_start_lst[i-1] + 1\n",
    "                    trial = df.iloc[trial_start : trial_end-1 , 3:6].values\n",
    "                    trial = tf.convert_to_tensor(trial, dtype = tf.float32)\n",
    "                if trial.shape[0] == 0 : \n",
    "                    length.append(trial.shape[0])\n",
    "                    paths.append(file_path)\n",
    "                labels.append(label)\n",
    "                trials.append(trial)\n",
    "\n",
    "    trials = tf.keras.utils.pad_sequences(trials, maxlen= 256, value = 0 , dtype = float, padding = 'post' )\n",
    "    return trials, length, paths\n",
    "    # d\n",
    "    # #transposing the trials \n",
    "    # trials = tf.transpose(trials, perm = [0,2,1])\n",
    "    # print(trials.shape)\n",
    "\n",
    "\n",
    "\n",
    "    # try:\n",
    "    #      np.savez_compressed(\"fall_detection_dataset\", trials=trials, labels=labels)\n",
    "    #      print('Creating Dataset successful')\n",
    "    # except:\n",
    "    #     raise RuntimeError(\"Failed creating the dataset\")\n",
    "    \n"
   ]
  },
  {
   "cell_type": "code",
   "execution_count": 48,
   "id": "e4f38cd1",
   "metadata": {},
   "outputs": [
    {
     "name": "stdout",
     "output_type": "stream",
     "text": [
      "/home/Students/bgu9/KD_Transformer/datasets/ADL/S put again_Hip_2022-07-21T10.36.16.713_E59CF70AD2E7_Accelerometer_32.000Hz_1.7.3.xlsx\n",
      "[551, 552, 553, 554, 555, 556, 557, 558, 559, 560]\n",
      "/home/Students/bgu9/KD_Transformer/datasets/ADL/Jput2_Hip_2022-07-30T12.23.41.732_E59CF70AD2E7_Accelerometer_32.000Hz_1.7.3.xlsx\n",
      "[601, 602, 603, 604, 605, 606, 607, 608, 609, 610]\n",
      "/home/Students/bgu9/KD_Transformer/datasets/ADL/Dput3_Hip_2022-07-22T14.49.27.230_E59CF70AD2E7_Accelerometer_32.000Hz_1.7.3.xlsx\n",
      "[456, 457, 458, 459, 460, 461, 462, 463, 464, 465, 827, 828, 829, 830, 831, 832, 833, 834, 835, 836]\n",
      "/home/Students/bgu9/KD_Transformer/datasets/ADL/G put 2_Hip_2022-07-26T15.37.57.705_E59CF70AD2E7_Accelerometer_32.000Hz_1.7.3.xlsx\n",
      "[477, 478, 479, 480, 481, 482, 483, 484, 485, 486]\n",
      "/home/Students/bgu9/KD_Transformer/datasets/ADL/Rput1_Right_2022-07-30T16.52.30.989_DE52EF1F2A06_Accelerometer_32.000Hz_1.7.3.xlsx\n",
      "[477, 478, 479, 480, 481, 482, 483, 484, 485, 486, 823, 824, 825, 826, 827, 828, 829, 830, 831, 832]\n",
      "/home/Students/bgu9/KD_Transformer/datasets/ADL/Rput2_Right_2022-07-30T17.04.52.892_DE52EF1F2A06_Accelerometer_32.000Hz_1.7.3.xlsx\n",
      "[548, 549, 550, 551, 552, 553, 554, 555, 556, 557]\n",
      "/home/Students/bgu9/KD_Transformer/datasets/ADL/Jput1_Right_2022-07-30T12.15.35.946_DE52EF1F2A06_Accelerometer_32.000Hz_1.7.3.xlsx\n",
      "[511, 512, 513, 514, 515, 516, 517, 518, 519, 520, 1026, 1027, 1028, 1029, 1030, 1031, 1032, 1033, 1034, 1035]\n",
      "/home/Students/bgu9/KD_Transformer/datasets/ADL/G put 2_Right_2022-07-26T15.37.57.705_DE52EF1F2A06_Accelerometer_32.000Hz_1.7.3.xlsx\n",
      "[477, 478, 479, 480, 481, 482, 483, 484, 485, 486]\n",
      "/home/Students/bgu9/KD_Transformer/datasets/ADL/Kput1_Right_2022-08-04T17.53.07.413_DE52EF1F2A06_Accelerometer_32.000Hz_1.7.3.xlsx\n",
      "[181, 182, 183, 184, 185, 186, 187, 188, 189, 190, 1007, 1008, 1009, 1010, 1011, 1012, 1013, 1014, 1015, 1016]\n",
      "/home/Students/bgu9/KD_Transformer/datasets/ADL/Jput1_Hip_2022-07-30T12.15.35.946_E59CF70AD2E7_Accelerometer_32.000Hz_1.7.3.xlsx\n",
      "[511, 512, 513, 514, 515, 516, 517, 518, 519, 520, 1026, 1027, 1028, 1029, 1030, 1031, 1032, 1033, 1034, 1035]\n",
      "/home/Students/bgu9/KD_Transformer/datasets/ADL/Jput2_Right_2022-07-30T12.23.41.732_DE52EF1F2A06_Accelerometer_32.000Hz_1.7.3.xlsx\n",
      "[622, 623, 624, 625, 626, 627, 628, 629, 630, 631]\n",
      "/home/Students/bgu9/KD_Transformer/datasets/ADL/S sweep_Hip_2022-07-21T10.47.08.658_E59CF70AD2E7_Accelerometer_32.000Hz_1.7.3.xlsx\n",
      "[337, 338, 339, 340, 341, 342, 343, 344, 345, 346, 636, 637, 638, 639, 640, 641, 642, 643, 644, 645, 902, 903, 904, 905, 906, 907, 908, 909, 910, 911, 1198, 1199, 1200, 1201, 1202, 1203, 1204, 1205, 1206]\n",
      "/home/Students/bgu9/KD_Transformer/datasets/ADL/W put2_Right_2022-07-27T11.57.11.445_DE52EF1F2A06_Accelerometer_32.000Hz_1.7.3.xlsx\n",
      "[601, 602, 603, 604, 605, 606, 607, 608, 609, 610]\n",
      "/home/Students/bgu9/KD_Transformer/datasets/ADL/S put again_Right_2022-07-21T10.36.16.713_DE52EF1F2A06_Accelerometer_32.000Hz_1.7.3.xlsx\n",
      "[570, 571, 572, 573, 574, 575, 576, 577, 578, 579]\n",
      "/home/Students/bgu9/KD_Transformer/datasets/ADL/W put1_Right_2022-07-27T11.48.32.387_DE52EF1F2A06_Accelerometer_32.000Hz_1.7.3.xlsx\n",
      "[437, 438, 439, 440, 441, 442, 443, 444, 445, 446, 880, 881, 882, 883, 884, 885, 886, 887, 888, 889]\n",
      "/home/Students/bgu9/KD_Transformer/datasets/ADL/Dwash_Right_2022-07-21T14.39.39.276_DE52EF1F2A06_Accelerometer_32.000Hz_1.7.3.xlsx\n",
      "[241, 242, 243, 244, 245, 246, 247, 248, 249, 441, 442, 443, 444, 445, 446, 447, 448, 449, 450, 647, 648, 649, 650, 651, 652, 653, 654, 655, 656, 833, 834, 835, 836, 837, 838, 839, 840, 841, 842]\n",
      "/home/Students/bgu9/KD_Transformer/datasets/ADL/W put2_Hip_2022-07-27T11.57.11.445_E59CF70AD2E7_Accelerometer_32.000Hz_1.7.3.xlsx\n",
      "[601, 602, 603, 604, 605, 606, 607, 608, 609, 610]\n",
      "/home/Students/bgu9/KD_Transformer/datasets/ADL/W put1_Hip_2022-07-27T11.48.32.387_E59CF70AD2E7_Accelerometer_32.000Hz_1.7.3.xlsx\n",
      "[437, 438, 439, 440, 441, 442, 443, 444, 445, 446, 880, 881, 882, 883, 884, 885, 886, 887, 888, 889]\n",
      "/home/Students/bgu9/KD_Transformer/datasets/ADL/Kput2_Right_2022-08-04T18.06.39.182_DE52EF1F2A06_Accelerometer_32.000Hz_1.7.3.xlsx\n",
      "[498, 499, 500, 501, 502, 503, 504, 505, 506, 507, 947, 948, 949, 950, 951, 952, 953, 954, 955, 956]\n",
      "/home/Students/bgu9/KD_Transformer/datasets/ADL/Dput2_Hip_2022-07-22T14.38.53.411_E59CF70AD2E7_Accelerometer_32.000Hz_1.7.3.xlsx\n",
      "[561, 562, 563, 564, 565, 566, 567, 568, 569, 570]\n",
      "/home/Students/bgu9/KD_Transformer/datasets/ADL/G put 3_Hip_2022-07-27T15.30.39.933_E59CF70AD2E7_Accelerometer_32.000Hz_1.7.3.csv.xlsx\n",
      "[388, 389, 390, 391, 392, 393, 394, 395, 396, 397, 807, 808, 809, 810, 811, 812, 813, 814, 815, 816]\n",
      "/home/Students/bgu9/KD_Transformer/datasets/ADL/S sweep_Right_2022-07-21T10.47.08.658_DE52EF1F2A06_Accelerometer_32.000Hz_1.7.3.xlsx\n",
      "[]\n"
     ]
    },
    {
     "ename": "IndexError",
     "evalue": "list index out of range",
     "output_type": "error",
     "traceback": [
      "\u001b[0;31m---------------------------------------------------------------------------\u001b[0m",
      "\u001b[0;31mIndexError\u001b[0m                                Traceback (most recent call last)",
      "Cell \u001b[0;32mIn [48], line 1\u001b[0m\n\u001b[0;32m----> 1\u001b[0m trails, labels, paths \u001b[38;5;241m=\u001b[39m \u001b[43mpreprocessing\u001b[49m\u001b[43m(\u001b[49m\u001b[43m)\u001b[49m\n",
      "Cell \u001b[0;32mIn [47], line 41\u001b[0m, in \u001b[0;36mpreprocessing\u001b[0;34m()\u001b[0m\n\u001b[1;32m     38\u001b[0m trial \u001b[38;5;241m=\u001b[39m \u001b[38;5;28;01mNone\u001b[39;00m\n\u001b[1;32m     39\u001b[0m \u001b[38;5;28;01mif\u001b[39;00m i \u001b[38;5;241m==\u001b[39m \u001b[38;5;241m0\u001b[39m :\n\u001b[0;32m---> 41\u001b[0m     trial \u001b[38;5;241m=\u001b[39m df\u001b[38;5;241m.\u001b[39miloc[\u001b[38;5;241m0\u001b[39m:\u001b[43mnull_col\u001b[49m\u001b[43m[\u001b[49m\u001b[38;5;241;43m1\u001b[39;49m\u001b[43m]\u001b[49m\u001b[38;5;241m-\u001b[39m\u001b[38;5;241m1\u001b[39m, \u001b[38;5;241m3\u001b[39m:\u001b[38;5;241m6\u001b[39m]\n\u001b[1;32m     42\u001b[0m \u001b[38;5;28;01melif\u001b[39;00m i \u001b[38;5;241m==\u001b[39m null_seg :\n\u001b[1;32m     43\u001b[0m     trial \u001b[38;5;241m=\u001b[39m df\u001b[38;5;241m.\u001b[39miloc[trial_start_lst[\u001b[38;5;241m-\u001b[39m\u001b[38;5;241m1\u001b[39m]\u001b[38;5;241m+\u001b[39m\u001b[38;5;241m1\u001b[39m:, \u001b[38;5;241m3\u001b[39m:\u001b[38;5;241m6\u001b[39m]\n",
      "\u001b[0;31mIndexError\u001b[0m: list index out of range"
     ]
    }
   ],
   "source": [
    "trails, labels, paths = preprocessing()"
   ]
  },
  {
   "cell_type": "code",
   "execution_count": null,
   "id": "81848015",
   "metadata": {},
   "outputs": [],
   "source": [
    "tf.is"
   ]
  },
  {
   "cell_type": "code",
   "execution_count": 42,
   "id": "5c24bc7b",
   "metadata": {},
   "outputs": [
    {
     "data": {
      "text/plain": [
       "['/home/Students/bgu9/KD_Transformer/datasets/ADL/Dwash_Right_2022-07-21T14.39.39.276_DE52EF1F2A06_Accelerometer_32.000Hz_1.7.3.xlsx',\n",
       " '/home/Students/bgu9/KD_Transformer/datasets/ADL/Dwash_Right_2022-07-21T14.39.39.276_DE52EF1F2A06_Accelerometer_32.000Hz_1.7.3.xlsx',\n",
       " '/home/Students/bgu9/KD_Transformer/datasets/ADL/Dwave_Right_2022-07-21T14.48.31.432_DE52EF1F2A06_Accelerometer_32.000Hz_1.7.3.xlsx',\n",
       " '/home/Students/bgu9/KD_Transformer/datasets/ADL/Dwave_Right_2022-07-21T14.48.31.432_DE52EF1F2A06_Accelerometer_32.000Hz_1.7.3.xlsx',\n",
       " '/home/Students/bgu9/KD_Transformer/datasets/ADL/Dwave_Right_2022-07-21T14.48.31.432_DE52EF1F2A06_Accelerometer_32.000Hz_1.7.3.xlsx']"
      ]
     },
     "execution_count": 42,
     "metadata": {},
     "output_type": "execute_result"
    }
   ],
   "source": [
    "paths"
   ]
  },
  {
   "cell_type": "code",
   "execution_count": null,
   "id": "fa96fcd9",
   "metadata": {},
   "outputs": [],
   "source": []
  }
 ],
 "metadata": {
  "kernelspec": {
   "display_name": "Python 3 (ipykernel)",
   "language": "python",
   "name": "python3"
  },
  "language_info": {
   "codemirror_mode": {
    "name": "ipython",
    "version": 3
   },
   "file_extension": ".py",
   "mimetype": "text/x-python",
   "name": "python",
   "nbconvert_exporter": "python",
   "pygments_lexer": "ipython3",
   "version": "3.9.13"
  }
 },
 "nbformat": 4,
 "nbformat_minor": 5
}
