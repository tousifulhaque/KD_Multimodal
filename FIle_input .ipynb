{
 "cells": [
  {
   "cell_type": "code",
   "execution_count": 29,
   "id": "2a4589f3",
   "metadata": {},
   "outputs": [],
   "source": [
    "import glob\n",
    "import pandas as pd\n",
    "import numpy as np\n",
    "import matplotlib.pyplot as plt\n",
    "from scipy.stats import norm\n",
    "import statistics\n",
    "import tensorflow as tf\n",
    "import re\n",
    "import os"
   ]
  },
  {
   "cell_type": "code",
   "execution_count": 8,
   "id": "266b76ad",
   "metadata": {},
   "outputs": [],
   "source": [
    "from tensorflow.keras.layers import MultiHeadAttention, Embedding"
   ]
  },
  {
   "cell_type": "code",
   "execution_count": 50,
   "id": "3f820ea4",
   "metadata": {},
   "outputs": [],
   "source": [
    "# os.path.joi\n",
    "fall = os.path.join(os.getcwd() , 'datasets/Fall/***.xlsx')\n",
    "adl = os.path.join(os.getcwd(), 'datasets/ADL/***.xlsx')"
   ]
  },
  {
   "cell_type": "code",
   "execution_count": 51,
   "id": "d1168b9b",
   "metadata": {},
   "outputs": [],
   "source": [
    "fall_files = glob.glob(fall)\n",
    "adl_files = glob.glob(adl)"
   ]
  },
  {
   "cell_type": "code",
   "execution_count": 52,
   "id": "aeccfe8a",
   "metadata": {},
   "outputs": [
    {
     "data": {
      "text/plain": [
       "['/Users/tousif/Lstm_transformer/KD_Multimodal/datasets/ADL/Kseat_Hip_2022-08-04T17.22.00.826_E59CF70AD2E7_Accelerometer_32.000Hz_1.7.3.xlsx',\n",
       " '/Users/tousif/Lstm_transformer/KD_Multimodal/datasets/ADL/S wash_Right_2022-07-21T09.40.55.532_DE52EF1F2A06_Accelerometer_32.000Hz_1.7.3.xlsx',\n",
       " '/Users/tousif/Lstm_transformer/KD_Multimodal/datasets/ADL/Rpick1_Right_2022-07-30T17.16.13.176_DE52EF1F2A06_Accelerometer_32.000Hz_1.7.3.xlsx',\n",
       " '/Users/tousif/Lstm_transformer/KD_Multimodal/datasets/ADL/S walk_Hip_2022-07-21T09.13.42.948_E59CF70AD2E7_Accelerometer_32.000Hz_1.7.3.xlsx',\n",
       " '/Users/tousif/Lstm_transformer/KD_Multimodal/datasets/ADL/W put1_Hip_2022-07-27T11.48.32.387_E59CF70AD2E7_Accelerometer_32.000Hz_1.7.3.xlsx',\n",
       " '/Users/tousif/Lstm_transformer/KD_Multimodal/datasets/ADL/G walk_Right_2022-07-26T14.17.23.635_DE52EF1F2A06_Accelerometer_32.000Hz_1.7.3.xlsx',\n",
       " '/Users/tousif/Lstm_transformer/KD_Multimodal/datasets/ADL/Kput2_Hip_2022-08-04T18.06.39.182_E59CF70AD2E7_Accelerometer_32.000Hz_1.7.3.xlsx',\n",
       " '/Users/tousif/Lstm_transformer/KD_Multimodal/datasets/ADL/G put 3_Hip_2022-07-27T15.30.39.933_E59CF70AD2E7_Accelerometer_32.000Hz_1.7.3.csv.xlsx',\n",
       " '/Users/tousif/Lstm_transformer/KD_Multimodal/datasets/ADL/handwaved _Right_2022-07-16T15.46.29.630_DE52EF1F2A06_Accelerometer_32.000Hz_1.7.3.xlsx',\n",
       " '/Users/tousif/Lstm_transformer/KD_Multimodal/datasets/ADL/Jsit_Hip_2022-07-30T11.43.34.157_E59CF70AD2E7_Accelerometer_32.000Hz_1.7.3.xlsx',\n",
       " '/Users/tousif/Lstm_transformer/KD_Multimodal/datasets/ADL/G walk_Hip_2022-07-26T14.17.23.635_E59CF70AD2E7_Accelerometer_32.000Hz_1.7.3.xlsx',\n",
       " '/Users/tousif/Lstm_transformer/KD_Multimodal/datasets/ADL/Ksweap_Right_2022-08-04T17.39.44.439_DE52EF1F2A06_Accelerometer_32.000Hz_1.7.3.xlsx',\n",
       " '/Users/tousif/Lstm_transformer/KD_Multimodal/datasets/ADL/W sit_Right_2022-07-27T11.09.52.573_DE52EF1F2A06_Accelerometer_32.000Hz_1.7.3.xlsx',\n",
       " '/Users/tousif/Lstm_transformer/KD_Multimodal/datasets/ADL/S sweep_Right_2022-07-21T10.47.08.658_DE52EF1F2A06_Accelerometer_32.000Hz_1.7.3.xlsx',\n",
       " '/Users/tousif/Lstm_transformer/KD_Multimodal/datasets/ADL/Rsweep_Right_2022-07-30T16.32.39.991_DE52EF1F2A06_Accelerometer_32.000Hz_1.7.3.xlsx',\n",
       " '/Users/tousif/Lstm_transformer/KD_Multimodal/datasets/ADL/Dwave_Right_2022-07-21T14.48.31.432_DE52EF1F2A06_Accelerometer_32.000Hz_1.7.3.xlsx',\n",
       " '/Users/tousif/Lstm_transformer/KD_Multimodal/datasets/ADL/Rpick1_Hip_2022-07-30T17.16.13.176_E59CF70AD2E7_Accelerometer_32.000Hz_1.7.3.xlsx',\n",
       " '/Users/tousif/Lstm_transformer/KD_Multimodal/datasets/ADL/S pick_Hip_2022-07-21T10.01.46.397_E59CF70AD2E7_Accelerometer_32.000Hz_1.7.3.xlsx',\n",
       " '/Users/tousif/Lstm_transformer/KD_Multimodal/datasets/ADL/W put2_Right_2022-07-27T11.57.11.445_DE52EF1F2A06_Accelerometer_32.000Hz_1.7.3.xlsx',\n",
       " '/Users/tousif/Lstm_transformer/KD_Multimodal/datasets/ADL/Dsit_Hip_2022-07-21T15.28.45.018_E59CF70AD2E7_Accelerometer_32.000Hz_1.7.3.xlsx',\n",
       " '/Users/tousif/Lstm_transformer/KD_Multimodal/datasets/ADL/G wash_Hip_2022-07-26T14.27.15.593_E59CF70AD2E7_Accelerometer_32.000Hz_1.7.3.xlsx',\n",
       " '/Users/tousif/Lstm_transformer/KD_Multimodal/datasets/ADL/Rput1_Right_2022-07-30T16.52.30.989_DE52EF1F2A06_Accelerometer_32.000Hz_1.7.3.xlsx',\n",
       " '/Users/tousif/Lstm_transformer/KD_Multimodal/datasets/ADL/sitandstand_Right_2022-07-16T15.26.35.274_DE52EF1F2A06_Accelerometer_32.000Hz_1.7.3.xlsx',\n",
       " '/Users/tousif/Lstm_transformer/KD_Multimodal/datasets/ADL/Jpick_Hip_2022-07-30T11.26.05.204_E59CF70AD2E7_Accelerometer_32.000Hz_1.7.3.xlsx',\n",
       " '/Users/tousif/Lstm_transformer/KD_Multimodal/datasets/ADL/Dput2_Hip_2022-07-22T14.38.53.411_E59CF70AD2E7_Accelerometer_32.000Hz_1.7.3.xlsx',\n",
       " '/Users/tousif/Lstm_transformer/KD_Multimodal/datasets/ADL/Kwalk_Hip_2022-07-22T09.40.03.460_E59CF70AD2E7_Accelerometer_32.000Hz_1.7.3.xlsx',\n",
       " '/Users/tousif/Lstm_transformer/KD_Multimodal/datasets/ADL/Jwalk_Hip_2022-07-30T10.27.48.948_E59CF70AD2E7_Accelerometer_32.000Hz_1.7.3.xlsx',\n",
       " '/Users/tousif/Lstm_transformer/KD_Multimodal/datasets/ADL/W pick_Right_2022-07-27T11.00.27.500_DE52EF1F2A06_Accelerometer_32.000Hz_1.7.3.xlsx',\n",
       " '/Users/tousif/Lstm_transformer/KD_Multimodal/datasets/ADL/walknwash_Right_2022-07-16T14.45.03.114_DE52EF1F2A06_Accelerometer_32.000Hz_1.7.3.xlsx',\n",
       " '/Users/tousif/Lstm_transformer/KD_Multimodal/datasets/ADL/Kwave_Hip_2022-07-22T09.58.54.451_E59CF70AD2E7_Accelerometer_32.000Hz_1.7.3.xlsx',\n",
       " '/Users/tousif/Lstm_transformer/KD_Multimodal/datasets/ADL/Kwalk_Right_2022-07-22T09.40.03.460_DE52EF1F2A06_Accelerometer_32.000Hz_1.7.3.xlsx',\n",
       " '/Users/tousif/Lstm_transformer/KD_Multimodal/datasets/ADL/Mwash_Hip_2022-07-19T16.23.59.959_E59CF70AD2E7_Accelerometer_32.000Hz_1.7.3.xlsx',\n",
       " '/Users/tousif/Lstm_transformer/KD_Multimodal/datasets/ADL/Jwash_Right_2022-07-30T10.50.16.679_DE52EF1F2A06_Accelerometer_32.000Hz_1.7.3.xlsx',\n",
       " '/Users/tousif/Lstm_transformer/KD_Multimodal/datasets/ADL/walknwash_Hip_2022-07-16T14.45.03.114_E59CF70AD2E7_Accelerometer_32.000Hz_1.7.3.xlsx',\n",
       " '/Users/tousif/Lstm_transformer/KD_Multimodal/datasets/ADL/G wave_Hip_2022-07-26T14.35.58.364_E59CF70AD2E7_Accelerometer_32.000Hz_1.7.3.xlsx',\n",
       " '/Users/tousif/Lstm_transformer/KD_Multimodal/datasets/ADL/W put2_Hip_2022-07-27T11.57.11.445_E59CF70AD2E7_Accelerometer_32.000Hz_1.7.3.xlsx',\n",
       " '/Users/tousif/Lstm_transformer/KD_Multimodal/datasets/ADL/G wash_Right_2022-07-26T14.27.15.593_DE52EF1F2A06_Accelerometer_32.000Hz_1.7.3.xlsx',\n",
       " '/Users/tousif/Lstm_transformer/KD_Multimodal/datasets/ADL/Kseat_Right_2022-08-04T17.22.00.826_DE52EF1F2A06_Accelerometer_32.000Hz_1.7.3.xlsx',\n",
       " '/Users/tousif/Lstm_transformer/KD_Multimodal/datasets/ADL/G put 3_Right_2022-07-27T15.30.39.933_DE52EF1F2A06_Accelerometer_32.000Hz_1.7.3.xlsx',\n",
       " '/Users/tousif/Lstm_transformer/KD_Multimodal/datasets/ADL/S put again_Hip_2022-07-21T10.36.16.713_E59CF70AD2E7_Accelerometer_32.000Hz_1.7.3.xlsx',\n",
       " '/Users/tousif/Lstm_transformer/KD_Multimodal/datasets/ADL/Msit_Right_2022-07-20T12.36.42.775_DE52EF1F2A06_Accelerometer_32.000Hz_1.7.3.xlsx',\n",
       " '/Users/tousif/Lstm_transformer/KD_Multimodal/datasets/ADL/Jput1_Hip_2022-07-30T12.15.35.946_E59CF70AD2E7_Accelerometer_32.000Hz_1.7.3.xlsx',\n",
       " '/Users/tousif/Lstm_transformer/KD_Multimodal/datasets/ADL/Kwash_Hip_2022-07-22T09.50.12.315_E59CF70AD2E7_Accelerometer_32.000Hz_1.7.3.xlsx',\n",
       " '/Users/tousif/Lstm_transformer/KD_Multimodal/datasets/ADL/Dwash_Hip_2022-07-21T14.39.39.276_E59CF70AD2E7_Accelerometer_32.000Hz_1.7.3.xlsx',\n",
       " '/Users/tousif/Lstm_transformer/KD_Multimodal/datasets/ADL/Kwash_Right_2022-07-22T09.50.12.315_DE52EF1F2A06_Accelerometer_32.000Hz_1.7.3.xlsx',\n",
       " '/Users/tousif/Lstm_transformer/KD_Multimodal/datasets/ADL/G sit_Right_2022-07-26T15.04.55.517_DE52EF1F2A06_Accelerometer_32.000Hz_1.7.3.xlsx',\n",
       " '/Users/tousif/Lstm_transformer/KD_Multimodal/datasets/ADL/W wash_Right_2022-07-27T10.27.15.648_DE52EF1F2A06_Accelerometer_32.000Hz_1.7.3.xlsx',\n",
       " '/Users/tousif/Lstm_transformer/KD_Multimodal/datasets/ADL/Rsweep_Hip_2022-07-30T16.32.39.991_E59CF70AD2E7_Accelerometer_32.000Hz_1.7.3.xlsx',\n",
       " '/Users/tousif/Lstm_transformer/KD_Multimodal/datasets/ADL/Dwash_Right_2022-07-21T14.39.39.276_DE52EF1F2A06_Accelerometer_32.000Hz_1.7.3.xlsx',\n",
       " '/Users/tousif/Lstm_transformer/KD_Multimodal/datasets/ADL/W wave_Hip_2022-07-27T10.37.59.887_E59CF70AD2E7_Accelerometer_32.000Hz_1.7.3.xlsx',\n",
       " '/Users/tousif/Lstm_transformer/KD_Multimodal/datasets/ADL/Mwave_Hip_2022-07-19T16.36.04.834_E59CF70AD2E7_Accelerometer_32.000Hz_1.7.3.xlsx',\n",
       " '/Users/tousif/Lstm_transformer/KD_Multimodal/datasets/ADL/G sweep_Right_2022-07-26T15.14.10.148_DE52EF1F2A06_Accelerometer_32.000Hz_1.7.3.xlsx',\n",
       " '/Users/tousif/Lstm_transformer/KD_Multimodal/datasets/ADL/S wash_Hip_2022-07-21T09.40.55.532_E59CF70AD2E7_Accelerometer_32.000Hz_1.7.3.xlsx',\n",
       " '/Users/tousif/Lstm_transformer/KD_Multimodal/datasets/ADL/W put1_Right_2022-07-27T11.48.32.387_DE52EF1F2A06_Accelerometer_32.000Hz_1.7.3.xlsx',\n",
       " '/Users/tousif/Lstm_transformer/KD_Multimodal/datasets/ADL/W wash_Hip_2022-07-27T10.27.15.648_E59CF70AD2E7_Accelerometer_32.000Hz_1.7.3.xlsx',\n",
       " '/Users/tousif/Lstm_transformer/KD_Multimodal/datasets/ADL/Dpick_Right_2022-07-21T15.04.03.499_DE52EF1F2A06_Accelerometer_32.000Hz_1.7.3.xlsx',\n",
       " '/Users/tousif/Lstm_transformer/KD_Multimodal/datasets/ADL/W sit_Hip_2022-07-27T11.09.52.573_E59CF70AD2E7_Accelerometer_32.000Hz_1.7.3.xlsx',\n",
       " '/Users/tousif/Lstm_transformer/KD_Multimodal/datasets/ADL/Kput2_Right_2022-08-04T18.06.39.182_DE52EF1F2A06_Accelerometer_32.000Hz_1.7.3.xlsx',\n",
       " '/Users/tousif/Lstm_transformer/KD_Multimodal/datasets/ADL/Mwash_Right_2022-07-19T16.23.59.959_DE52EF1F2A06_Accelerometer_32.000Hz_1.7.3.xlsx',\n",
       " '/Users/tousif/Lstm_transformer/KD_Multimodal/datasets/ADL/Jwave_Hip_2022-07-30T11.02.31.575_E59CF70AD2E7_Accelerometer_32.000Hz_1.7.3.xlsx',\n",
       " '/Users/tousif/Lstm_transformer/KD_Multimodal/datasets/ADL/G sit_Hip_2022-07-26T15.04.55.517_E59CF70AD2E7_Accelerometer_32.000Hz_1.7.3.xlsx',\n",
       " '/Users/tousif/Lstm_transformer/KD_Multimodal/datasets/ADL/G sweep_Hip_2022-07-26T15.14.10.148_E59CF70AD2E7_Accelerometer_32.000Hz_1.7.3.xlsx',\n",
       " '/Users/tousif/Lstm_transformer/KD_Multimodal/datasets/ADL/Dpick_Hip_2022-07-21T15.04.03.499_E59CF70AD2E7_Accelerometer_32.000Hz_1.7.3.xlsx',\n",
       " '/Users/tousif/Lstm_transformer/KD_Multimodal/datasets/ADL/S sweep_Hip_2022-07-21T10.47.08.658_E59CF70AD2E7_Accelerometer_32.000Hz_1.7.3.xlsx',\n",
       " '/Users/tousif/Lstm_transformer/KD_Multimodal/datasets/ADL/G pick_Right_2022-07-26T14.55.24.325_DE52EF1F2A06_Accelerometer_32.000Hz_1.7.3.xlsx',\n",
       " '/Users/tousif/Lstm_transformer/KD_Multimodal/datasets/ADL/S walk_Right_2022-07-21T09.13.42.948_DE52EF1F2A06_Accelerometer_32.000Hz_1.7.3.xlsx',\n",
       " '/Users/tousif/Lstm_transformer/KD_Multimodal/datasets/ADL/Rput2_Hip_2022-07-30T17.04.52.892_E59CF70AD2E7_Accelerometer_32.000Hz_1.7.3.xlsx',\n",
       " '/Users/tousif/Lstm_transformer/KD_Multimodal/datasets/ADL/S drink_Hip_2022-07-21T09.50.31.803_E59CF70AD2E7_Accelerometer_32.000Hz_1.7.3.xlsx',\n",
       " '/Users/tousif/Lstm_transformer/KD_Multimodal/datasets/ADL/Jpick_Right_2022-07-30T11.26.05.204_DE52EF1F2A06_Accelerometer_32.000Hz_1.7.3.xlsx',\n",
       " '/Users/tousif/Lstm_transformer/KD_Multimodal/datasets/ADL/Jput2_Hip_2022-07-30T12.23.41.732_E59CF70AD2E7_Accelerometer_32.000Hz_1.7.3.xlsx',\n",
       " '/Users/tousif/Lstm_transformer/KD_Multimodal/datasets/ADL/Dwave_Hip_2022-07-21T14.48.31.432_E59CF70AD2E7_Accelerometer_32.000Hz_1.7.3.xlsx',\n",
       " '/Users/tousif/Lstm_transformer/KD_Multimodal/datasets/ADL/G pick_Hip_2022-07-26T14.55.24.325_E59CF70AD2E7_Accelerometer_32.000Hz_1.7.3.xlsx',\n",
       " '/Users/tousif/Lstm_transformer/KD_Multimodal/datasets/ADL/Rput2_Right_2022-07-30T17.04.52.892_DE52EF1F2A06_Accelerometer_32.000Hz_1.7.3.xlsx',\n",
       " '/Users/tousif/Lstm_transformer/KD_Multimodal/datasets/ADL/S pick_Right_2022-07-21T10.01.46.397_DE52EF1F2A06_Accelerometer_32.000Hz_1.7.3.xlsx',\n",
       " '/Users/tousif/Lstm_transformer/KD_Multimodal/datasets/ADL/Dsweep_Right_2022-07-21T15.41.21.719_DE52EF1F2A06_Accelerometer_32.000Hz_1.7.3.xlsx',\n",
       " '/Users/tousif/Lstm_transformer/KD_Multimodal/datasets/ADL/Dput3_Right_2022-07-22T14.49.27.230_DE52EF1F2A06_Accelerometer_32.000Hz_1.7.3.xlsx',\n",
       " '/Users/tousif/Lstm_transformer/KD_Multimodal/datasets/ADL/Kpick_Right_2022-07-22T10.22.03.140_DE52EF1F2A06_Accelerometer_32.000Hz_1.7.3.xlsx',\n",
       " '/Users/tousif/Lstm_transformer/KD_Multimodal/datasets/ADL/Rput1_Hip_2022-07-30T16.52.30.989_E59CF70AD2E7_Accelerometer_32.000Hz_1.7.3.xlsx',\n",
       " '/Users/tousif/Lstm_transformer/KD_Multimodal/datasets/ADL/Dsweep_Hip_2022-07-21T15.41.21.719_E59CF70AD2E7_Accelerometer_32.000Hz_1.7.3.xlsx',\n",
       " '/Users/tousif/Lstm_transformer/KD_Multimodal/datasets/ADL/Jwash_Hip_2022-07-30T10.50.16.679_E59CF70AD2E7_Accelerometer_32.000Hz_1.7.3.xlsx',\n",
       " '/Users/tousif/Lstm_transformer/KD_Multimodal/datasets/ADL/Msweep_Right_2022-07-20T12.58.33.231_DE52EF1F2A06_Accelerometer_32.000Hz_1.7.3.xlsx',\n",
       " '/Users/tousif/Lstm_transformer/KD_Multimodal/datasets/ADL/Jwalk_Right_2022-07-30T10.27.48.948_DE52EF1F2A06_Accelerometer_32.000Hz_1.7.3.xlsx',\n",
       " '/Users/tousif/Lstm_transformer/KD_Multimodal/datasets/ADL/Ksweap_Hip_2022-08-04T17.39.44.439_E59CF70AD2E7_Accelerometer_32.000Hz_1.7.3.xlsx',\n",
       " '/Users/tousif/Lstm_transformer/KD_Multimodal/datasets/ADL/Jsweep_Hip_2022-07-30T12.07.03.003_E59CF70AD2E7_Accelerometer_32.000Hz_1.7.3.xlsx',\n",
       " '/Users/tousif/Lstm_transformer/KD_Multimodal/datasets/ADL/G put 2_Hip_2022-07-26T15.37.57.705_E59CF70AD2E7_Accelerometer_32.000Hz_1.7.3.xlsx',\n",
       " '/Users/tousif/Lstm_transformer/KD_Multimodal/datasets/ADL/Kpick_Hip_2022-07-22T10.22.03.140_E59CF70AD2E7_Accelerometer_32.000Hz_1.7.3.xlsx',\n",
       " '/Users/tousif/Lstm_transformer/KD_Multimodal/datasets/ADL/W pick_Hip_2022-07-27T11.00.27.500_E59CF70AD2E7_Accelerometer_32.000Hz_1.7.3.xlsx',\n",
       " '/Users/tousif/Lstm_transformer/KD_Multimodal/datasets/ADL/Kwave_Right_2022-07-22T09.58.54.451_DE52EF1F2A06_Accelerometer_32.000Hz_1.7.3.xlsx',\n",
       " '/Users/tousif/Lstm_transformer/KD_Multimodal/datasets/ADL/Jput2_Right_2022-07-30T12.23.41.732_DE52EF1F2A06_Accelerometer_32.000Hz_1.7.3.xlsx',\n",
       " '/Users/tousif/Lstm_transformer/KD_Multimodal/datasets/ADL/S wave_Right_2022-07-21T09.25.33.572_DE52EF1F2A06_Accelerometer_32.000Hz_1.7.3.xlsx',\n",
       " '/Users/tousif/Lstm_transformer/KD_Multimodal/datasets/ADL/W sweep_Hip_2022-07-27T11.30.30.464_E59CF70AD2E7_Accelerometer_32.000Hz_1.7.3.xlsx',\n",
       " '/Users/tousif/Lstm_transformer/KD_Multimodal/datasets/ADL/Mwave_Right_2022-07-19T16.36.04.834_DE52EF1F2A06_Accelerometer_32.000Hz_1.7.3.xlsx',\n",
       " '/Users/tousif/Lstm_transformer/KD_Multimodal/datasets/ADL/Jsweep_Right_2022-07-30T12.07.03.003_DE52EF1F2A06_Accelerometer_32.000Hz_1.7.3.xlsx',\n",
       " '/Users/tousif/Lstm_transformer/KD_Multimodal/datasets/ADL/Dwalk_Right_2022-07-21T14.28.44.997_DE52EF1F2A06_Accelerometer_32.000Hz_1.7.3.xlsx',\n",
       " '/Users/tousif/Lstm_transformer/KD_Multimodal/datasets/ADL/Dwalk_Hip_2022-07-21T14.28.44.997_E59CF70AD2E7_Accelerometer_32.000Hz_1.7.3.xlsx',\n",
       " '/Users/tousif/Lstm_transformer/KD_Multimodal/datasets/ADL/S wave_Hip_2022-07-21T09.25.33.572_E59CF70AD2E7_Accelerometer_32.000Hz_1.7.3.xlsx',\n",
       " '/Users/tousif/Lstm_transformer/KD_Multimodal/datasets/ADL/Dput2_Right_2022-07-22T14.38.53.411_DE52EF1F2A06_Accelerometer_32.000Hz_1.7.3.xlsx',\n",
       " '/Users/tousif/Lstm_transformer/KD_Multimodal/datasets/ADL/S sit_Right_2022-07-21T10.12.26.017_DE52EF1F2A06_Accelerometer_32.000Hz_1.7.3.xlsx',\n",
       " '/Users/tousif/Lstm_transformer/KD_Multimodal/datasets/ADL/G wave_Right_2022-07-26T14.35.58.364_DE52EF1F2A06_Accelerometer_32.000Hz_1.7.3.xlsx',\n",
       " '/Users/tousif/Lstm_transformer/KD_Multimodal/datasets/ADL/Kput1_Right_2022-08-04T17.53.07.413_DE52EF1F2A06_Accelerometer_32.000Hz_1.7.3.xlsx',\n",
       " '/Users/tousif/Lstm_transformer/KD_Multimodal/datasets/ADL/Jsit_Right_2022-07-30T11.43.34.157_DE52EF1F2A06_Accelerometer_32.000Hz_1.7.3.xlsx',\n",
       " '/Users/tousif/Lstm_transformer/KD_Multimodal/datasets/ADL/W wave_Right_2022-07-27T10.37.59.887_DE52EF1F2A06_Accelerometer_32.000Hz_1.7.3.xlsx',\n",
       " '/Users/tousif/Lstm_transformer/KD_Multimodal/datasets/ADL/S sit_Hip_2022-07-21T10.12.26.017_E59CF70AD2E7_Accelerometer_32.000Hz_1.7.3.xlsx',\n",
       " '/Users/tousif/Lstm_transformer/KD_Multimodal/datasets/ADL/W sweep_Right_2022-07-27T11.30.30.464_DE52EF1F2A06_Accelerometer_32.000Hz_1.7.3.xlsx',\n",
       " '/Users/tousif/Lstm_transformer/KD_Multimodal/datasets/ADL/sitandstand_Hip_2022-07-16T15.26.35.274_E59CF70AD2E7_Accelerometer_32.000Hz_1.7.3.xlsx',\n",
       " '/Users/tousif/Lstm_transformer/KD_Multimodal/datasets/ADL/Jwave_Right_2022-07-30T11.02.31.575_DE52EF1F2A06_Accelerometer_32.000Hz_1.7.3.xlsx',\n",
       " '/Users/tousif/Lstm_transformer/KD_Multimodal/datasets/ADL/S put again_Right_2022-07-21T10.36.16.713_DE52EF1F2A06_Accelerometer_32.000Hz_1.7.3.xlsx',\n",
       " '/Users/tousif/Lstm_transformer/KD_Multimodal/datasets/ADL/G put 2_Right_2022-07-26T15.37.57.705_DE52EF1F2A06_Accelerometer_32.000Hz_1.7.3.xlsx',\n",
       " '/Users/tousif/Lstm_transformer/KD_Multimodal/datasets/ADL/W walk_Hip_2022-07-27T10.14.21.186_E59CF70AD2E7_Accelerometer_32.000Hz_1.7.3.xlsx',\n",
       " '/Users/tousif/Lstm_transformer/KD_Multimodal/datasets/ADL/Dsit_Right_2022-07-21T15.28.45.018_DE52EF1F2A06_Accelerometer_32.000Hz_1.7.3.xlsx',\n",
       " '/Users/tousif/Lstm_transformer/KD_Multimodal/datasets/ADL/Dput3_Hip_2022-07-22T14.49.27.230_E59CF70AD2E7_Accelerometer_32.000Hz_1.7.3.xlsx',\n",
       " '/Users/tousif/Lstm_transformer/KD_Multimodal/datasets/ADL/Jput1_Right_2022-07-30T12.15.35.946_DE52EF1F2A06_Accelerometer_32.000Hz_1.7.3.xlsx']"
      ]
     },
     "execution_count": 52,
     "metadata": {},
     "output_type": "execute_result"
    }
   ],
   "source": [
    "adl_files"
   ]
  },
  {
   "cell_type": "code",
   "execution_count": 12,
   "id": "eb5e5768",
   "metadata": {},
   "outputs": [],
   "source": [
    "all_file_path = fall_files + adl_files"
   ]
  },
  {
   "cell_type": "code",
   "execution_count": 21,
   "id": "ced6d16a",
   "metadata": {},
   "outputs": [
    {
     "name": "stdout",
     "output_type": "stream",
     "text": [
      "Metal device set to: Apple M1 Pro\n"
     ]
    },
    {
     "name": "stderr",
     "output_type": "stream",
     "text": [
      "2022-11-20 17:28:11.875107: I tensorflow/core/common_runtime/pluggable_device/pluggable_device_factory.cc:306] Could not identify NUMA node of platform GPU ID 0, defaulting to 0. Your kernel may not have been built with NUMA support.\n",
      "2022-11-20 17:28:11.875737: I tensorflow/core/common_runtime/pluggable_device/pluggable_device_factory.cc:272] Created TensorFlow device (/job:localhost/replica:0/task:0/device:GPU:0 with 0 MB memory) -> physical PluggableDevice (device: 0, name: METAL, pci bus id: <undefined>)\n"
     ]
    }
   ],
   "source": [
    "file_len = []\n",
    "trials = []\n",
    "labels = []\n",
    "fall_pattern = re.compile(\"Fall\")\n",
    "for file_path in all_file_path:\n",
    "    \n",
    "    #checking if the excel has 2 sheets or not\n",
    "    label = None\n",
    "    if fall_pattern.search(file_path):\n",
    "        label = 1\n",
    "    else:\n",
    "        label = 0\n",
    "                 \n",
    "    if len (pd.ExcelFile(file_path).sheet_names) == 2:\n",
    "        fall_df = pd.read_excel(file_path, sheet_name = -1)\n",
    "        df = pd.read_excel(fall_files[1], sheet_name=-1)\n",
    "        df = df.iloc[:, :-1]\n",
    "        null_col = df[df.isnull().any(axis = 1)].index.to_list()\n",
    "        \n",
    "        #calculating how many null segments we have \n",
    "        null_col = df[df.isnull().any(axis = 1)].index.to_list()\n",
    "        null_seg = len(null_col)//10\n",
    "        trial_start_lst = null_col[9::10]\n",
    "        trial_end_lst = null_col[10::10]\n",
    "        \n",
    "        for i in range(len(null_col)//10 + 1):\n",
    "            trial = None\n",
    "            if i == 0 :\n",
    "                trial = df.iloc[0:null_col[1]-1, 3:6]\n",
    "            elif i == null_seg :\n",
    "                trial = df.iloc[trial_start_lst[-1]+1:, 3:6]\n",
    "            else: \n",
    "                trial_end = trial_end_lst[i-1]\n",
    "                trial_start = trial_start_lst[i-1] + 1\n",
    "                trial = df.iloc[trial_start : trial_end-1 , 3:6].values\n",
    "                trial = tf.convert_to_tensor(trial, dtype = tf.float32)\n",
    "            labels.append(label)\n",
    "            trials.append(trial)\n",
    "trials = tf.keras.utils.pad_sequences(trials, maxlen= 512, value = float('-inf') , dtype = float, padding = 'post' )\n",
    "\n",
    "#transposing the trials \n",
    "trials = tf.transpose(trials, perm = [0,2,1])\n"
   ]
  },
  {
   "cell_type": "code",
   "execution_count": 24,
   "id": "4b0b553d",
   "metadata": {},
   "outputs": [
    {
     "name": "stdout",
     "output_type": "stream",
     "text": [
      "[main 8b74328] Feat: Creating the Full Dataset\n",
      " 4 files changed, 5356 insertions(+), 156087 deletions(-)\n",
      " create mode 100644 raw.githubusercontent.com/hfawaz/cd-diagram/master/FordA/FordA_TEST.tsv\n",
      " create mode 100644 raw.githubusercontent.com/hfawaz/cd-diagram/master/FordA/FordA_TRAIN.tsv\n",
      "Enumerating objects: 16, done.\n",
      "Counting objects: 100% (16/16), done.\n",
      "Delta compression using up to 8 threads\n",
      "Compressing objects: 100% (8/8), done.\n",
      "Writing objects: 100% (12/12), 11.12 MiB | 1.78 MiB/s, done.\n",
      "Total 12 (delta 2), reused 0 (delta 0), pack-reused 0\n",
      "remote: Resolving deltas: 100% (2/2), completed with 1 local object.\u001b[K\n",
      "To https://github.com/tousifulhaque/KD_Multimodal.git\n",
      "   c23d055..8b74328  main -> main\n"
     ]
    }
   ],
   "source": [
    "#Git commit\n",
    "!git add .\n",
    "!git commit -m \"Feat: Creating the Full Dataset\"\n",
    "!git push \n",
    "\n"
   ]
  },
  {
   "cell_type": "code",
   "execution_count": 56,
   "id": "f84c60b8",
   "metadata": {},
   "outputs": [],
   "source": [
    "masking_layer = tf.keras.layers.Masking(mask_value = float('-inf'), input_shape = (512, 3))"
   ]
  },
  {
   "cell_type": "code",
   "execution_count": 53,
   "id": "b0071777",
   "metadata": {},
   "outputs": [],
   "source": [
    "masking_layer = tf.keras.layers.Embedding(input_dim = 512, output_dim = 64)"
   ]
  },
  {
   "cell_type": "code",
   "execution_count": 27,
   "id": "cffefff3",
   "metadata": {},
   "outputs": [],
   "source": [
    "np.savez_compressed(\"fall_detection_dataset\", trials=trials, labels=labels)"
   ]
  },
  {
   "cell_type": "code",
   "execution_count": null,
   "id": "b408fc60",
   "metadata": {},
   "outputs": [],
   "source": []
  }
 ],
 "metadata": {
  "kernelspec": {
   "display_name": "Python 3 (ipykernel)",
   "language": "python",
   "name": "python3"
  },
  "language_info": {
   "codemirror_mode": {
    "name": "ipython",
    "version": 3
   },
   "file_extension": ".py",
   "mimetype": "text/x-python",
   "name": "python",
   "nbconvert_exporter": "python",
   "pygments_lexer": "ipython3",
   "version": "3.9.6"
  }
 },
 "nbformat": 4,
 "nbformat_minor": 5
}
