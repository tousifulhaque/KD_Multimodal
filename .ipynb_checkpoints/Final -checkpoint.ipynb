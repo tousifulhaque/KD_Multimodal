{
 "cells": [
  {
   "cell_type": "code",
   "execution_count": 2,
   "id": "8e9dde82",
   "metadata": {},
   "outputs": [],
   "source": [
    "import warnings\n",
    "import logging\n",
    "import os"
   ]
  },
  {
   "cell_type": "code",
   "execution_count": 3,
   "id": "8dad3b7e",
   "metadata": {},
   "outputs": [],
   "source": [
    "warnings.simplefilter('ignore')\n",
    "os.environ['TF_CPP_MIN_LOG_LEVEL'] = '3'  # FATAL\n",
    "logging.getLogger('tensorflow').setLevel(logging.FATAL)"
   ]
  },
  {
   "cell_type": "code",
   "execution_count": 2,
   "id": "f344b334",
   "metadata": {},
   "outputs": [],
   "source": [
    "from  wandb_config import sweep_config\n",
    "import wandb\n",
    "import tensorflow as tf\n",
    "from tensorflow.keras.optimizers import Adam\n",
    "# from tensorflow_addons.optimizers import AdamW\n",
    "from tensorflow.keras.callbacks import EarlyStopping, LearningRateScheduler, Callback\n",
    "from tensorflow.keras.losses import BinaryCrossentropy\n",
    "from sklearn.model_selection import train_test_split\n",
    "from tensorflow.keras.layers import Add, Dense, LayerNormalization, Normalization , Masking, GlobalAveragePooling1D, Conv1D, Dropout, MultiHeadAttention, Layer\n",
    "from tensorflow.keras.callbacks import LearningRateScheduler, Callback, ModelCheckpoint\n",
    "from tensorflow.keras.initializers import TruncatedNormal\n",
    "from tensorflow.keras.metrics import Recall, Precision , AUC\n",
    "from tensorflow_addons.metrics import F1Score\n",
    "from tensorflow.keras import Model\n",
    "import numpy as np\n",
    "from sklearn.metrics import auc, roc_curve\n",
    "import matplotlib.pyplot as plt\n"
   ]
  },
  {
   "cell_type": "code",
   "execution_count": 5,
   "id": "6467ce59",
   "metadata": {},
   "outputs": [
    {
     "name": "stdout",
     "output_type": "stream",
     "text": [
      "Enumerating objects: 234, done.\n",
      "Counting objects: 100% (234/234), done.\n",
      "Delta compression using up to 8 threads\n",
      "Compressing objects: 100% (227/227), done.\n",
      "Writing objects: 100% (227/227), 38.61 MiB | 2.18 MiB/s, done.\n",
      "Total 227 (delta 7), reused 0 (delta 0), pack-reused 0\n",
      "remote: Resolving deltas: 100% (7/7), completed with 4 local objects.\u001b[K\n",
      "To https://github.com/tousifulhaque/KD_Multimodal.git\n",
      "   69039b8..61285e8  main -> main\n"
     ]
    }
   ],
   "source": [
    "# ! git add .\n",
    "# ! git commit -m \"Feat: New Dataset Generation\"\n",
    "! git push "
   ]
  },
  {
   "cell_type": "code",
   "execution_count": 4,
   "id": "85329e2e",
   "metadata": {},
   "outputs": [
    {
     "name": "stdout",
     "output_type": "stream",
     "text": [
      "\u001b7\u001b[?47h\u001b[>4;2m\u001b[?1h\u001b=\u001b[?2004h\u001b[?1004h\u001b[1;24r\u001b[?12h\u001b[?12l\u001b[22;2t\u001b[22;1t\u001b[29m\u001b[m\u001b[H\u001b[2J\u001b[?25l\u001b[24;1H\".gitignore\" 3L, 70B\u001b[2;1H▽\u001b[6n\u001b[2;1H  \u001b[3;1H\u001bPzz\u001b\\\u001b[0%m\u001b[6n\u001b[3;1H           \u001b[1;1H\u001b[>c\u001b]10;?\u0007\u001b]11;?\u0007\u001b[1;1Hnew_dataset.npz\n",
      "KU-HAR_time_domain_subsamples_20750x300.csv\u001b[2;44H\u001b[K\u001b[3;1H/datasets\u001b[3;10H\u001b[K\u001b[4;1H\u001b[1m\u001b[34m~                                                                               \u001b[5;1H~                                                                               \u001b[6;1H~                                                                               \u001b[7;1H~                                                                               \u001b[8;1H~                                                                               \u001b[9;1H~                                                                               \u001b[10;1H~                                                                               \u001b[11;1H~                                                                               \u001b[12;1H~                                                                               \u001b[13;1H~                                                                               \u001b[14;1H~                                                                               \u001b[15;1H~                                                                               \u001b[16;1H~                                                                               \u001b[17;1H~                                                                               \u001b[18;1H~                                                                               \u001b[19;1H~                                                                               \u001b[20;1H~                                                                               \u001b[21;1H~                                                                               \u001b[22;1H~                                                                               \u001b[23;1H~                                                                               \u001b[1;1H\u001b[?25h\u001b[?25l\u001b[m\u001b[24;1HType  :qa  and press <Enter> to exit Vim\u0007\u001b[1;1H\u001b[?25h"
     ]
    }
   ],
   "source": [
    "!vim .gitignore"
   ]
  },
  {
   "cell_type": "code",
   "execution_count": 5,
   "id": "0f7b941d",
   "metadata": {},
   "outputs": [],
   "source": [
    "!rm -rf tmp"
   ]
  },
  {
   "cell_type": "code",
   "execution_count": 6,
   "id": "6c0ba524",
   "metadata": {},
   "outputs": [],
   "source": [
    "class F1_Score(tf.keras.metrics.Metric):\n",
    "\n",
    "    def __init__(self, name='f1_score', **kwargs):\n",
    "        super().__init__(name=name, **kwargs)\n",
    "        self.f1 = self.add_weight(name='f1', initializer='zeros')\n",
    "        self.precision_fn = Precision(thresholds=0.5)\n",
    "        self.recall_fn = Recall(thresholds=0.5)\n",
    "\n",
    "    def update_state(self, y_true, y_pred, sample_weight=None):\n",
    "        p = self.precision_fn(y_true, y_pred)\n",
    "        r = self.recall_fn(y_true, y_pred)\n",
    "        # since f1 is a variable, we use assign\n",
    "        self.f1.assign(2 * ((p * r) / (p + r + 1e-6)))\n",
    "\n",
    "    def result(self):\n",
    "        return self.f1\n",
    "\n",
    "    def reset_states(self):\n",
    "        # we also need to reset the state of the precision and recall objects\n",
    "        self.precision_fn.reset_states()\n",
    "        self.recall_fn.reset_states()\n",
    "        self.f1.assign(0)"
   ]
  },
  {
   "cell_type": "markdown",
   "id": "83288736",
   "metadata": {},
   "source": [
    "## Lr Scheduler"
   ]
  },
  {
   "cell_type": "code",
   "execution_count": 7,
   "id": "ff9b8afc",
   "metadata": {},
   "outputs": [],
   "source": [
    "\n",
    "import math\n",
    "# from tensorflow.keras.callbacks import Callback\n",
    "\n",
    "# class PrintLR(Callback):\n",
    "#     def on_epoch_end(self, epoch, logs = None):\n",
    "\n",
    "\n",
    "def cosine_schedule(base_lr, total_steps, warmup_steps ):\n",
    "    def step_fn(epoch):\n",
    "        lr = base_lr \n",
    "        progress = (epoch - warmup_steps) / float(total_steps -  warmup_steps)\n",
    "\n",
    "        progress = tf.clip_by_value(progress, 0.0, 1.0)\n",
    "\n",
    "        lr = lr * 0.5 * (1.0 + tf.cos(math.pi * progress))\n",
    "        \n",
    "        if warmup_steps:\n",
    "            lr = lr * tf.minimum(1.0 , epoch/warmup_steps)\n",
    "        \n",
    "        return lr\n",
    "    \n",
    "\n",
    "    return step_fn"
   ]
  },
  {
   "cell_type": "markdown",
   "id": "388df218",
   "metadata": {},
   "source": [
    "## Positional Embedding"
   ]
  },
  {
   "cell_type": "code",
   "execution_count": 8,
   "id": "8c02f592",
   "metadata": {},
   "outputs": [],
   "source": [
    "\n",
    "class PositionalEmbedding(Layer):\n",
    "    def __init__(self, units,dropout_rate,  **kwargs):\n",
    "        super(PositionalEmbedding, self).__init__(**kwargs)\n",
    "\n",
    "        self.units = units\n",
    "        self.conv_1 = Conv1D(filters  = units, kernel_size = 1)\n",
    "        self.projection = Dense(units, kernel_initializer=TruncatedNormal(stddev=0.02))\n",
    "\n",
    "        self.dropout = Dropout(rate=dropout_rate)\n",
    "\n",
    "    def build(self, input_shape):\n",
    "        super(PositionalEmbedding, self).build(input_shape)\n",
    "\n",
    "        self.position = self.add_weight(\n",
    "            name=\"position\",\n",
    "            shape=(1, input_shape[1], self.units),\n",
    "            initializer=TruncatedNormal(stddev=0.02),\n",
    "            trainable=True,\n",
    "        )\n",
    "\n",
    "    def call(self, inputs, training):\n",
    "        x = self.projection(inputs)\n",
    "        # x = self.conv_1(inputs)\n",
    "        x = x + self.position\n",
    "        return self.dropout(x, training=training)"
   ]
  },
  {
   "cell_type": "markdown",
   "id": "3756111d",
   "metadata": {},
   "source": [
    "## Encoder"
   ]
  },
  {
   "cell_type": "code",
   "execution_count": 10,
   "id": "4e956fbc",
   "metadata": {},
   "outputs": [],
   "source": [
    "class Encoder(Layer):\n",
    "    def __init__(\n",
    "        self, embed_dim, mlp_dim, num_heads, dropout_rate,\n",
    "        attention_dropout_rate, **kwargs\n",
    "    ):\n",
    "        super(Encoder, self).__init__(**kwargs)\n",
    "\n",
    "        self.mha = MultiHeadAttention(\n",
    "            num_heads = num_heads,\n",
    "            key_dim = embed_dim,\n",
    "            dropout = attention_dropout_rate, \n",
    "            kernel_initializer = TruncatedNormal(stddev = 0.02)\n",
    "        )\n",
    "\n",
    "        self. dense_0 = Dense(\n",
    "            units = mlp_dim, \n",
    "            activation = \"gelu\", \n",
    "            kernel_initializer = TruncatedNormal(stddev = 0.02)\n",
    "        )\n",
    "\n",
    "        self.dense_1 = Dense(\n",
    "            units = embed_dim, \n",
    "            kernel_initializer = TruncatedNormal(stddev = 0.02)\n",
    "        )\n",
    "\n",
    "        self.conv_0 = Conv1D(filters = 4 , kernel_size = 1, activation = 'relu')\n",
    "        self.conv_1 = Conv1D(filters  = embed_dim, kernel_size = 1)\n",
    "\n",
    "        self.dropout_0 = Dropout(rate = dropout_rate)\n",
    "        self.dropout_1 = Dropout(rate = dropout_rate)\n",
    "\n",
    "        self.norm_0 = LayerNormalization(epsilon = 1e-6)\n",
    "        self.norm_1 = LayerNormalization(epsilon = 1e-6)\n",
    "\n",
    "        self.add_0 = Add()\n",
    "        self.add_1 = Add()\n",
    "    \n",
    "    def call(self, inputs, training , mask):\n",
    "\n",
    "\n",
    "        x = self.norm_0(inputs)\n",
    "        x = self.mha(\n",
    "            query = x, \n",
    "            value = x, \n",
    "            key = x,\n",
    "            attention_mask = mask,\n",
    "            training = training\n",
    "        ) #[batch_size, sequence_length, embed_dim][8, 500, 3]\n",
    "        x = self.dropout_0(x, training= training)\n",
    "        x = self.add_0([x, inputs])\n",
    "\n",
    "        #MLP block \n",
    "        y = self.norm_1(x)\n",
    "        y = self.conv_0(y) #[batch_size , sequence_length, neurons]\n",
    "#         y = self.dropout_1(y, training)\n",
    "        y = self.conv_1(y)#[batch_size , sequence_lenght, neurons]\n",
    "#         y = self.dropout_1(y, training)\n",
    "        \n",
    "\n",
    "        return self.add_1([x, y])"
   ]
  },
  {
   "cell_type": "markdown",
   "id": "915e6abf",
   "metadata": {},
   "source": [
    "## Transformer"
   ]
  },
  {
   "cell_type": "code",
   "execution_count": 11,
   "id": "6af2665d",
   "metadata": {},
   "outputs": [],
   "source": [
    "class Transformer(Model):\n",
    "    def __init__(\n",
    "        self,\n",
    "        num_layers,\n",
    "        embed_dim,\n",
    "        mlp_dim,\n",
    "        num_heads,\n",
    "        num_classes,\n",
    "        dropout_rate,\n",
    "        attention_dropout_rate,\n",
    "        **kwargs\n",
    "    ):\n",
    "        super(Transformer, self).__init__(**kwargs)\n",
    "\n",
    "        # Input (normalization of RAW measurements)\n",
    "        self.input_norm = Normalization()\n",
    "        \n",
    "        #Making Layer\n",
    "        self.masking_layer = Masking(mask_value = 0.0)\n",
    "\n",
    "        # Input\n",
    "        self.pos_embs = PositionalEmbedding(embed_dim, dropout_rate)\n",
    "\n",
    "        # Encoder\n",
    "        self.e_layers = [\n",
    "            Encoder(embed_dim, mlp_dim, num_heads, dropout_rate, attention_dropout_rate)\n",
    "            for _ in range(num_layers)\n",
    "        ]\n",
    "\n",
    "        # Output\n",
    "        self.norm = LayerNormalization(epsilon=1e-5)\n",
    "        self.pool = GlobalAveragePooling1D(data_format = 'channels_first')\n",
    "        self.dense_0 = Dense(mlp_dim, activation = 'relu')\n",
    "        self.final_layer = Dense(1, kernel_initializer=\"zeros\", activation = 'sigmoid')\n",
    "\n",
    "    def call(self, inputs, training = True):\n",
    "        expanded_input = tf.cast(tf.tile(tf.expand_dims(inputs, axis=-2), [1, 1, 500,1]), tf.float32)\n",
    "        self.masking_layer.build(expanded_input.shape)\n",
    "        mask = self.masking_layer.compute_mask(expanded_input)\n",
    "        x = self.input_norm(inputs) \n",
    "        x = self.pos_embs(x, training=training)\n",
    "        for layer in self.e_layers:\n",
    "            x = layer(x, training=training , mask = mask)\n",
    "        x = self.norm(x)\n",
    "        x = self.pool(x)\n",
    "        x = self.dense_0(x)\n",
    "\n",
    "        x = self.final_layer(x)\n",
    "        return x"
   ]
  },
  {
   "cell_type": "markdown",
   "id": "4380a929",
   "metadata": {},
   "source": [
    "## Train Function "
   ]
  },
  {
   "cell_type": "code",
   "execution_count": 12,
   "id": "e6cc2101",
   "metadata": {},
   "outputs": [],
   "source": [
    "    config = {\n",
    "      'epochs': 50,\n",
    "      'num_layers':  3,\n",
    "      'embed_layer_size': 3,\n",
    "      'global_clipnorm' : 3.0,\n",
    "      'fc_layer_size': 256,\n",
    "      'num_heads': 2,\n",
    "      'dropout': 0.1,\n",
    "      'attention_dropout': 0.1,\n",
    "      'optimizer': 'adam',\n",
    "      'amsgrad': False,\n",
    "      'label_smoothing': 0.1,\n",
    "      'learning_rate': 1e-3,\n",
    "      #'weight_decay': {\n",
    "      #    'values': [2.5e-4, 1e-4, 5e-5, 1e-5]\n",
    "      'warmup_steps': 5,\n",
    "      'batch_size': 8}\n",
    "  "
   ]
  },
  {
   "cell_type": "code",
   "execution_count": 13,
   "id": "428f63fb",
   "metadata": {},
   "outputs": [],
   "source": [
    "  def create_model():\n",
    "\n",
    "\n",
    "    # config = wandb.config\n",
    "    \n",
    "    # Generate new model\n",
    "    model = Transformer(\n",
    "      num_layers=config['num_layers'],\n",
    "      embed_dim=config['embed_layer_size']\n",
    "      ,\n",
    "      mlp_dim=config['fc_layer_size'],\n",
    "      num_heads=config['num_heads'],\n",
    "      num_classes=2,\n",
    "      dropout_rate=config['dropout'],\n",
    "      attention_dropout_rate=config['attention_dropout'],\n",
    "    )\n",
    "\n",
    "    \n",
    "\n",
    "    # adapt on training dataset - must be before model.compile !!!\n",
    "    model.input_norm.adapt(X_train, batch_size=config['batch_size'])\n",
    "    # print(model.input_norm.variables)\n",
    "\n",
    "    # Select optimizer\n",
    "    if config['optimizer'] == \"adam\":\n",
    "      optim = Adam(\n",
    "          global_clipnorm=config['global_clipnorm'],\n",
    "          amsgrad=config['amsgrad'],\n",
    "      )\n",
    "    # elif config.optimizer == \"adamw\":\n",
    "    #   optim = AdamW(\n",
    "    #       weight_decay=config.weight_decay,\n",
    "    #       amsgrad=config.amsgrad,\n",
    "    #       global_clipnorm=config.global_clipnorm,\n",
    "    #       exclude_from_weight_decay=[\"position\"]\n",
    "    #   )\n",
    "    else:\n",
    "      raise ValueError(\"The used optimizer is not in list of available\")\n",
    "\n",
    "    model.compile(\n",
    "      loss= BinaryCrossentropy(label_smoothing=config['label_smoothing']),\n",
    "      optimizer=optim,\n",
    "      metrics=[Recall(), Precision() , AUC(), F1_Score()],\n",
    "    )\n",
    "    \n",
    "    return model"
   ]
  },
  {
   "cell_type": "code",
   "execution_count": 16,
   "id": "8342ce8f",
   "metadata": {},
   "outputs": [],
   "source": [
    "def train():\n",
    "    model = create_model()\n",
    "    checkpoint_filepath = os.path.join(os.getcwd(), 'tmp/weights.ckpt')\n",
    "    model_checkpoint = ModelCheckpoint(filepath = checkpoint_filepath, \n",
    "                                      save_weights_only = True, \n",
    "                                      monitor = 'val_f1_score', \n",
    "                                      mode = 'max', \n",
    "                                      save_best_only = True, \n",
    "                                      verbose = True)\n",
    "\n",
    "\n",
    "    # Train model\n",
    "    history = model.fit(\n",
    "      X_train,\n",
    "      y_train,\n",
    "      batch_size=config['batch_size'],\n",
    "      epochs=config['epochs'],\n",
    "      validation_data=(X_val, y_val),\n",
    "      callbacks=[\n",
    "        LearningRateScheduler(cosine_schedule(base_lr=config['learning_rate'], total_steps=config['epochs'], warmup_steps=config['warmup_steps'])),\n",
    "        EarlyStopping(monitor=\"val_loss\", mode='min', min_delta=0.001, patience=5),\n",
    "        model_checkpoint\n",
    "      ],\n",
    "      verbose=1\n",
    "    )\n",
    "    return model"
   ]
  },
  {
   "cell_type": "code",
   "execution_count": 17,
   "id": "f06f53c3",
   "metadata": {},
   "outputs": [
    {
     "name": "stdout",
     "output_type": "stream",
     "text": [
      "Epoch 1/50\n",
      "82/82 [==============================] - ETA: 0s - loss: 0.6931 - recall_2: 0.5650 - precision_2: 0.4973 - auc_1: 0.5000 - f1_score: 0.5290\n",
      "Epoch 1: val_f1_score improved from -inf to 0.68217, saving model to /Users/tousif/Lstm_transformer/KD_Multimodal/tmp/weights.ckpt\n",
      "82/82 [==============================] - 31s 338ms/step - loss: 0.6931 - recall_2: 0.5650 - precision_2: 0.4973 - auc_1: 0.5000 - f1_score: 0.5290 - val_loss: 0.6930 - val_recall_2: 0.7458 - val_precision_2: 0.6286 - val_auc_1: 0.5000 - val_f1_score: 0.6822 - lr: 2.0000e-04\n",
      "Epoch 2/50\n",
      "82/82 [==============================] - ETA: 0s - loss: 0.6911 - recall_2: 0.9215 - precision_2: 0.5535 - auc_1: 0.6215 - f1_score: 0.6916\n",
      "Epoch 2: val_f1_score improved from 0.68217 to 0.77941, saving model to /Users/tousif/Lstm_transformer/KD_Multimodal/tmp/weights.ckpt\n",
      "82/82 [==============================] - 26s 318ms/step - loss: 0.6911 - recall_2: 0.9215 - precision_2: 0.5535 - auc_1: 0.6215 - f1_score: 0.6916 - val_loss: 0.6864 - val_recall_2: 0.8983 - val_precision_2: 0.6883 - val_auc_1: 0.6945 - val_f1_score: 0.7794 - lr: 2.0000e-04\n",
      "Epoch 3/50\n",
      "82/82 [==============================] - ETA: 0s - loss: 0.6652 - recall_2: 0.8187 - precision_2: 0.6642 - auc_1: 0.7415 - f1_score: 0.7334\n",
      "Epoch 3: val_f1_score improved from 0.77941 to 0.78873, saving model to /Users/tousif/Lstm_transformer/KD_Multimodal/tmp/weights.ckpt\n",
      "82/82 [==============================] - 27s 331ms/step - loss: 0.6652 - recall_2: 0.8187 - precision_2: 0.6642 - auc_1: 0.7415 - f1_score: 0.7334 - val_loss: 0.6257 - val_recall_2: 0.9492 - val_precision_2: 0.6747 - val_auc_1: 0.8240 - val_f1_score: 0.7887 - lr: 2.0000e-04\n",
      "Epoch 4/50\n",
      "82/82 [==============================] - ETA: 0s - loss: 0.5926 - recall_2: 0.8671 - precision_2: 0.7104 - auc_1: 0.8122 - f1_score: 0.7810\n",
      "Epoch 4: val_f1_score improved from 0.78873 to 0.79137, saving model to /Users/tousif/Lstm_transformer/KD_Multimodal/tmp/weights.ckpt\n",
      "82/82 [==============================] - 27s 326ms/step - loss: 0.5926 - recall_2: 0.8671 - precision_2: 0.7104 - auc_1: 0.8122 - f1_score: 0.7810 - val_loss: 0.5506 - val_recall_2: 0.9322 - val_precision_2: 0.6875 - val_auc_1: 0.8686 - val_f1_score: 0.7914 - lr: 2.0000e-04\n",
      "Epoch 5/50\n",
      "82/82 [==============================] - ETA: 0s - loss: 0.5287 - recall_2: 0.8912 - precision_2: 0.7284 - auc_1: 0.8704 - f1_score: 0.8016\n",
      "Epoch 5: val_f1_score did not improve from 0.79137\n",
      "82/82 [==============================] - 27s 328ms/step - loss: 0.5287 - recall_2: 0.8912 - precision_2: 0.7284 - auc_1: 0.8704 - f1_score: 0.8016 - val_loss: 0.5140 - val_recall_2: 0.9492 - val_precision_2: 0.6747 - val_auc_1: 0.9031 - val_f1_score: 0.7887 - lr: 2.0000e-04\n",
      "Epoch 6/50\n",
      "82/82 [==============================] - ETA: 0s - loss: 0.5036 - recall_2: 0.8822 - precision_2: 0.7355 - auc_1: 0.8812 - f1_score: 0.8022\n",
      "Epoch 6: val_f1_score improved from 0.79137 to 0.84127, saving model to /Users/tousif/Lstm_transformer/KD_Multimodal/tmp/weights.ckpt\n",
      "82/82 [==============================] - 26s 319ms/step - loss: 0.5036 - recall_2: 0.8822 - precision_2: 0.7355 - auc_1: 0.8812 - f1_score: 0.8022 - val_loss: 0.4676 - val_recall_2: 0.8983 - val_precision_2: 0.7910 - val_auc_1: 0.9169 - val_f1_score: 0.8413 - lr: 2.0000e-04\n",
      "Epoch 7/50\n",
      "82/82 [==============================] - ETA: 0s - loss: 0.4818 - recall_2: 0.8792 - precision_2: 0.7618 - auc_1: 0.8973 - f1_score: 0.8163\n",
      "Epoch 7: val_f1_score did not improve from 0.84127\n",
      "82/82 [==============================] - 26s 318ms/step - loss: 0.4818 - recall_2: 0.8792 - precision_2: 0.7618 - auc_1: 0.8973 - f1_score: 0.8163 - val_loss: 0.4541 - val_recall_2: 0.9322 - val_precision_2: 0.7639 - val_auc_1: 0.9275 - val_f1_score: 0.8397 - lr: 2.0000e-04\n",
      "Epoch 8/50\n",
      "82/82 [==============================] - ETA: 0s - loss: 0.4775 - recall_2: 0.8550 - precision_2: 0.8086 - auc_1: 0.8965 - f1_score: 0.8311\n",
      "Epoch 8: val_f1_score improved from 0.84127 to 0.87805, saving model to /Users/tousif/Lstm_transformer/KD_Multimodal/tmp/weights.ckpt\n",
      "82/82 [==============================] - 27s 332ms/step - loss: 0.4775 - recall_2: 0.8550 - precision_2: 0.8086 - auc_1: 0.8965 - f1_score: 0.8311 - val_loss: 0.4479 - val_recall_2: 0.9153 - val_precision_2: 0.8438 - val_auc_1: 0.9262 - val_f1_score: 0.8780 - lr: 2.0000e-04\n",
      "Epoch 9/50\n",
      "82/82 [==============================] - ETA: 0s - loss: 0.4671 - recall_2: 0.8520 - precision_2: 0.8222 - auc_1: 0.9068 - f1_score: 0.8368\n",
      "Epoch 9: val_f1_score did not improve from 0.87805\n",
      "82/82 [==============================] - 27s 334ms/step - loss: 0.4671 - recall_2: 0.8520 - precision_2: 0.8222 - auc_1: 0.9068 - f1_score: 0.8368 - val_loss: 0.4446 - val_recall_2: 0.8983 - val_precision_2: 0.8548 - val_auc_1: 0.9245 - val_f1_score: 0.8760 - lr: 2.0000e-04\n",
      "Epoch 10/50\n",
      "82/82 [==============================] - ETA: 0s - loss: 0.4683 - recall_2: 0.8822 - precision_2: 0.7978 - auc_1: 0.9032 - f1_score: 0.8379\n",
      "Epoch 10: val_f1_score did not improve from 0.87805\n",
      "82/82 [==============================] - 28s 338ms/step - loss: 0.4683 - recall_2: 0.8822 - precision_2: 0.7978 - auc_1: 0.9032 - f1_score: 0.8379 - val_loss: 0.4458 - val_recall_2: 0.9153 - val_precision_2: 0.7714 - val_auc_1: 0.9234 - val_f1_score: 0.8372 - lr: 2.0000e-04\n",
      "Epoch 11/50\n",
      "82/82 [==============================] - ETA: 0s - loss: 0.4593 - recall_2: 0.8338 - precision_2: 0.8263 - auc_1: 0.9061 - f1_score: 0.8301\n",
      "Epoch 11: val_f1_score did not improve from 0.87805\n",
      "82/82 [==============================] - 28s 335ms/step - loss: 0.4593 - recall_2: 0.8338 - precision_2: 0.8263 - auc_1: 0.9061 - f1_score: 0.8301 - val_loss: 0.4473 - val_recall_2: 0.9322 - val_precision_2: 0.7639 - val_auc_1: 0.9339 - val_f1_score: 0.8397 - lr: 2.0000e-04\n",
      "Epoch 12/50\n",
      "82/82 [==============================] - ETA: 0s - loss: 0.4543 - recall_2: 0.8429 - precision_2: 0.8087 - auc_1: 0.9112 - f1_score: 0.8254\n",
      "Epoch 12: val_f1_score did not improve from 0.87805\n",
      "82/82 [==============================] - 27s 323ms/step - loss: 0.4543 - recall_2: 0.8429 - precision_2: 0.8087 - auc_1: 0.9112 - f1_score: 0.8254 - val_loss: 0.4106 - val_recall_2: 0.8475 - val_precision_2: 0.8621 - val_auc_1: 0.9387 - val_f1_score: 0.8547 - lr: 2.0000e-04\n",
      "Epoch 13/50\n",
      "82/82 [==============================] - ETA: 0s - loss: 0.4384 - recall_2: 0.8459 - precision_2: 0.8563 - auc_1: 0.9209 - f1_score: 0.8511\n",
      "Epoch 13: val_f1_score did not improve from 0.87805\n",
      "82/82 [==============================] - 27s 325ms/step - loss: 0.4384 - recall_2: 0.8459 - precision_2: 0.8563 - auc_1: 0.9209 - f1_score: 0.8511 - val_loss: 0.4202 - val_recall_2: 0.8983 - val_precision_2: 0.8154 - val_auc_1: 0.9373 - val_f1_score: 0.8548 - lr: 2.0000e-04\n",
      "Epoch 14/50\n",
      "82/82 [==============================] - ETA: 0s - loss: 0.4387 - recall_2: 0.8399 - precision_2: 0.8399 - auc_1: 0.9209 - f1_score: 0.8399\n",
      "Epoch 14: val_f1_score did not improve from 0.87805\n",
      "82/82 [==============================] - 28s 341ms/step - loss: 0.4387 - recall_2: 0.8399 - precision_2: 0.8399 - auc_1: 0.9209 - f1_score: 0.8399 - val_loss: 0.3946 - val_recall_2: 0.8814 - val_precision_2: 0.8525 - val_auc_1: 0.9485 - val_f1_score: 0.8667 - lr: 2.0000e-04\n",
      "Epoch 15/50\n",
      "82/82 [==============================] - ETA: 0s - loss: 0.4208 - recall_2: 0.8671 - precision_2: 0.8697 - auc_1: 0.9325 - f1_score: 0.8684\n",
      "Epoch 15: val_f1_score did not improve from 0.87805\n",
      "82/82 [==============================] - 27s 325ms/step - loss: 0.4208 - recall_2: 0.8671 - precision_2: 0.8697 - auc_1: 0.9325 - f1_score: 0.8684 - val_loss: 0.4324 - val_recall_2: 0.9322 - val_precision_2: 0.7971 - val_auc_1: 0.9451 - val_f1_score: 0.8594 - lr: 2.0000e-04\n",
      "Epoch 16/50\n",
      "82/82 [==============================] - ETA: 0s - loss: 0.4195 - recall_2: 0.8610 - precision_2: 0.8584 - auc_1: 0.9332 - f1_score: 0.8597\n",
      "Epoch 16: val_f1_score improved from 0.87805 to 0.88136, saving model to /Users/tousif/Lstm_transformer/KD_Multimodal/tmp/weights.ckpt\n",
      "82/82 [==============================] - 27s 329ms/step - loss: 0.4195 - recall_2: 0.8610 - precision_2: 0.8584 - auc_1: 0.9332 - f1_score: 0.8597 - val_loss: 0.3938 - val_recall_2: 0.8814 - val_precision_2: 0.8814 - val_auc_1: 0.9517 - val_f1_score: 0.8814 - lr: 2.0000e-04\n"
     ]
    },
    {
     "name": "stdout",
     "output_type": "stream",
     "text": [
      "Epoch 17/50\n",
      "82/82 [==============================] - ETA: 0s - loss: 0.4226 - recall_2: 0.8550 - precision_2: 0.8576 - auc_1: 0.9318 - f1_score: 0.8563\n",
      "Epoch 17: val_f1_score did not improve from 0.88136\n",
      "82/82 [==============================] - 27s 327ms/step - loss: 0.4226 - recall_2: 0.8550 - precision_2: 0.8576 - auc_1: 0.9318 - f1_score: 0.8563 - val_loss: 0.3822 - val_recall_2: 0.8814 - val_precision_2: 0.8814 - val_auc_1: 0.9563 - val_f1_score: 0.8814 - lr: 2.0000e-04\n",
      "Epoch 18/50\n",
      "82/82 [==============================] - ETA: 0s - loss: 0.4232 - recall_2: 0.8761 - precision_2: 0.8430 - auc_1: 0.9295 - f1_score: 0.8593\n",
      "Epoch 18: val_f1_score did not improve from 0.88136\n",
      "82/82 [==============================] - 27s 326ms/step - loss: 0.4232 - recall_2: 0.8761 - precision_2: 0.8430 - auc_1: 0.9295 - f1_score: 0.8593 - val_loss: 0.3973 - val_recall_2: 0.9322 - val_precision_2: 0.8209 - val_auc_1: 0.9499 - val_f1_score: 0.8730 - lr: 2.0000e-04\n",
      "Epoch 19/50\n",
      "82/82 [==============================] - ETA: 0s - loss: 0.4181 - recall_2: 0.8792 - precision_2: 0.8687 - auc_1: 0.9347 - f1_score: 0.8739\n",
      "Epoch 19: val_f1_score improved from 0.88136 to 0.89256, saving model to /Users/tousif/Lstm_transformer/KD_Multimodal/tmp/weights.ckpt\n",
      "82/82 [==============================] - 27s 335ms/step - loss: 0.4181 - recall_2: 0.8792 - precision_2: 0.8687 - auc_1: 0.9347 - f1_score: 0.8739 - val_loss: 0.3756 - val_recall_2: 0.9153 - val_precision_2: 0.8710 - val_auc_1: 0.9564 - val_f1_score: 0.8926 - lr: 2.0000e-04\n",
      "Epoch 20/50\n",
      "82/82 [==============================] - ETA: 0s - loss: 0.4060 - recall_2: 0.8671 - precision_2: 0.8723 - auc_1: 0.9418 - f1_score: 0.8697\n",
      "Epoch 20: val_f1_score did not improve from 0.89256\n",
      "82/82 [==============================] - 27s 329ms/step - loss: 0.4060 - recall_2: 0.8671 - precision_2: 0.8723 - auc_1: 0.9418 - f1_score: 0.8697 - val_loss: 0.4138 - val_recall_2: 0.9492 - val_precision_2: 0.8116 - val_auc_1: 0.9487 - val_f1_score: 0.8750 - lr: 2.0000e-04\n",
      "Epoch 21/50\n",
      "82/82 [==============================] - ETA: 0s - loss: 0.3912 - recall_2: 0.8792 - precision_2: 0.8872 - auc_1: 0.9494 - f1_score: 0.8832\n",
      "Epoch 21: val_f1_score improved from 0.89256 to 0.90164, saving model to /Users/tousif/Lstm_transformer/KD_Multimodal/tmp/weights.ckpt\n",
      "82/82 [==============================] - 28s 337ms/step - loss: 0.3912 - recall_2: 0.8792 - precision_2: 0.8872 - auc_1: 0.9494 - f1_score: 0.8832 - val_loss: 0.3799 - val_recall_2: 0.9322 - val_precision_2: 0.8730 - val_auc_1: 0.9607 - val_f1_score: 0.9016 - lr: 2.0000e-04\n",
      "Epoch 22/50\n",
      "82/82 [==============================] - ETA: 0s - loss: 0.3924 - recall_2: 0.8610 - precision_2: 0.8879 - auc_1: 0.9480 - f1_score: 0.8742\n",
      "Epoch 22: val_f1_score did not improve from 0.90164\n",
      "82/82 [==============================] - 27s 327ms/step - loss: 0.3924 - recall_2: 0.8610 - precision_2: 0.8879 - auc_1: 0.9480 - f1_score: 0.8742 - val_loss: 0.3868 - val_recall_2: 0.8814 - val_precision_2: 0.8667 - val_auc_1: 0.9540 - val_f1_score: 0.8739 - lr: 2.0000e-04\n",
      "Epoch 23/50\n",
      "82/82 [==============================] - ETA: 0s - loss: 0.3884 - recall_2: 0.8792 - precision_2: 0.8926 - auc_1: 0.9498 - f1_score: 0.8858\n",
      "Epoch 23: val_f1_score did not improve from 0.90164\n",
      "82/82 [==============================] - 28s 338ms/step - loss: 0.3884 - recall_2: 0.8792 - precision_2: 0.8926 - auc_1: 0.9498 - f1_score: 0.8858 - val_loss: 0.3668 - val_recall_2: 0.8983 - val_precision_2: 0.8689 - val_auc_1: 0.9632 - val_f1_score: 0.8833 - lr: 2.0000e-04\n",
      "Epoch 24/50\n",
      "82/82 [==============================] - ETA: 0s - loss: 0.3855 - recall_2: 0.8822 - precision_2: 0.8875 - auc_1: 0.9513 - f1_score: 0.8848\n",
      "Epoch 24: val_f1_score did not improve from 0.90164\n",
      "82/82 [==============================] - 27s 335ms/step - loss: 0.3855 - recall_2: 0.8822 - precision_2: 0.8875 - auc_1: 0.9513 - f1_score: 0.8848 - val_loss: 0.3692 - val_recall_2: 0.9322 - val_precision_2: 0.8730 - val_auc_1: 0.9673 - val_f1_score: 0.9016 - lr: 2.0000e-04\n",
      "Epoch 25/50\n",
      "82/82 [==============================] - ETA: 0s - loss: 0.3800 - recall_2: 0.8882 - precision_2: 0.8829 - auc_1: 0.9548 - f1_score: 0.8855\n",
      "Epoch 25: val_f1_score did not improve from 0.90164\n",
      "82/82 [==============================] - 27s 327ms/step - loss: 0.3800 - recall_2: 0.8882 - precision_2: 0.8829 - auc_1: 0.9548 - f1_score: 0.8855 - val_loss: 0.3618 - val_recall_2: 0.8814 - val_precision_2: 0.9123 - val_auc_1: 0.9641 - val_f1_score: 0.8966 - lr: 2.0000e-04\n",
      "Epoch 26/50\n",
      "82/82 [==============================] - ETA: 0s - loss: 0.3936 - recall_2: 0.8701 - precision_2: 0.8754 - auc_1: 0.9474 - f1_score: 0.8727\n",
      "Epoch 26: val_f1_score did not improve from 0.90164\n",
      "82/82 [==============================] - 28s 337ms/step - loss: 0.3936 - recall_2: 0.8701 - precision_2: 0.8754 - auc_1: 0.9474 - f1_score: 0.8727 - val_loss: 0.3625 - val_recall_2: 0.8644 - val_precision_2: 0.8947 - val_auc_1: 0.9646 - val_f1_score: 0.8793 - lr: 2.0000e-04\n",
      "Epoch 27/50\n",
      "82/82 [==============================] - ETA: 0s - loss: 0.3800 - recall_2: 0.8882 - precision_2: 0.8936 - auc_1: 0.9546 - f1_score: 0.8909\n",
      "Epoch 27: val_f1_score did not improve from 0.90164\n",
      "82/82 [==============================] - 27s 325ms/step - loss: 0.3800 - recall_2: 0.8882 - precision_2: 0.8936 - auc_1: 0.9546 - f1_score: 0.8909 - val_loss: 0.3637 - val_recall_2: 0.8983 - val_precision_2: 0.8689 - val_auc_1: 0.9620 - val_f1_score: 0.8833 - lr: 2.0000e-04\n",
      "Epoch 28/50\n",
      "82/82 [==============================] - ETA: 0s - loss: 0.3692 - recall_2: 0.9184 - precision_2: 0.8915 - auc_1: 0.9589 - f1_score: 0.9048\n",
      "Epoch 28: val_f1_score did not improve from 0.90164\n",
      "82/82 [==============================] - 27s 333ms/step - loss: 0.3692 - recall_2: 0.9184 - precision_2: 0.8915 - auc_1: 0.9589 - f1_score: 0.9048 - val_loss: 0.3840 - val_recall_2: 0.9153 - val_precision_2: 0.8710 - val_auc_1: 0.9567 - val_f1_score: 0.8926 - lr: 2.0000e-04\n",
      "Epoch 29/50\n",
      "82/82 [==============================] - ETA: 0s - loss: 0.3612 - recall_2: 0.9063 - precision_2: 0.8876 - auc_1: 0.9633 - f1_score: 0.8969\n",
      "Epoch 29: val_f1_score improved from 0.90164 to 0.91935, saving model to /Users/tousif/Lstm_transformer/KD_Multimodal/tmp/weights.ckpt\n",
      "82/82 [==============================] - 27s 332ms/step - loss: 0.3612 - recall_2: 0.9063 - precision_2: 0.8876 - auc_1: 0.9633 - f1_score: 0.8969 - val_loss: 0.3531 - val_recall_2: 0.9661 - val_precision_2: 0.8769 - val_auc_1: 0.9729 - val_f1_score: 0.9194 - lr: 2.0000e-04\n",
      "Epoch 30/50\n",
      "82/82 [==============================] - ETA: 0s - loss: 0.3583 - recall_2: 0.9063 - precision_2: 0.9063 - auc_1: 0.9640 - f1_score: 0.9063\n",
      "Epoch 30: val_f1_score did not improve from 0.91935\n",
      "82/82 [==============================] - 27s 334ms/step - loss: 0.3583 - recall_2: 0.9063 - precision_2: 0.9063 - auc_1: 0.9640 - f1_score: 0.9063 - val_loss: 0.3650 - val_recall_2: 0.9153 - val_precision_2: 0.8571 - val_auc_1: 0.9664 - val_f1_score: 0.8852 - lr: 2.0000e-04\n",
      "Epoch 31/50\n",
      "82/82 [==============================] - ETA: 0s - loss: 0.3624 - recall_2: 0.8912 - precision_2: 0.9077 - auc_1: 0.9637 - f1_score: 0.8994\n",
      "Epoch 31: val_f1_score did not improve from 0.91935\n",
      "82/82 [==============================] - 27s 336ms/step - loss: 0.3624 - recall_2: 0.8912 - precision_2: 0.9077 - auc_1: 0.9637 - f1_score: 0.8994 - val_loss: 0.3701 - val_recall_2: 0.9661 - val_precision_2: 0.8507 - val_auc_1: 0.9670 - val_f1_score: 0.9048 - lr: 2.0000e-04\n",
      "Epoch 32/50\n",
      "82/82 [==============================] - ETA: 0s - loss: 0.3612 - recall_2: 0.9305 - precision_2: 0.8980 - auc_1: 0.9611 - f1_score: 0.9139\n",
      "Epoch 32: val_f1_score did not improve from 0.91935\n",
      "82/82 [==============================] - 28s 340ms/step - loss: 0.3612 - recall_2: 0.9305 - precision_2: 0.8980 - auc_1: 0.9611 - f1_score: 0.9139 - val_loss: 0.4255 - val_recall_2: 0.9492 - val_precision_2: 0.8485 - val_auc_1: 0.9469 - val_f1_score: 0.8960 - lr: 2.0000e-04\n",
      "Epoch 33/50\n",
      "82/82 [==============================] - ETA: 0s - loss: 0.3569 - recall_2: 0.9033 - precision_2: 0.9116 - auc_1: 0.9658 - f1_score: 0.9074\n",
      "Epoch 33: val_f1_score did not improve from 0.91935\n",
      "82/82 [==============================] - 27s 328ms/step - loss: 0.3569 - recall_2: 0.9033 - precision_2: 0.9116 - auc_1: 0.9658 - f1_score: 0.9074 - val_loss: 0.3795 - val_recall_2: 0.9492 - val_precision_2: 0.8750 - val_auc_1: 0.9640 - val_f1_score: 0.9106 - lr: 2.0000e-04\n"
     ]
    },
    {
     "name": "stdout",
     "output_type": "stream",
     "text": [
      "Epoch 34/50\n",
      "82/82 [==============================] - ETA: 0s - loss: 0.3567 - recall_2: 0.9033 - precision_2: 0.9116 - auc_1: 0.9640 - f1_score: 0.9074\n",
      "Epoch 34: val_f1_score did not improve from 0.91935\n",
      "82/82 [==============================] - 29s 348ms/step - loss: 0.3567 - recall_2: 0.9033 - precision_2: 0.9116 - auc_1: 0.9640 - f1_score: 0.9074 - val_loss: 0.3620 - val_recall_2: 0.9322 - val_precision_2: 0.8594 - val_auc_1: 0.9634 - val_f1_score: 0.8943 - lr: 2.0000e-04\n"
     ]
    }
   ],
   "source": [
    "    model = None\n",
    "    dataset_path = os.path.join(os.getcwd(), 'fall_detection_dataset.npz')\n",
    "    f = np.load(dataset_path)\n",
    "    signals = f['trials']\n",
    "\n",
    "    labels = f['labels']\n",
    "\n",
    "    # split to train-test\n",
    "    X_train, X_test, y_train, y_test = train_test_split(\n",
    "        signals, labels, test_size=0.15, random_state=9, stratify=labels\n",
    "    )\n",
    "    X_train, X_val, y_train, y_val = train_test_split(\n",
    "        X_train, y_train, test_size=0.15, random_state=9, stratify=y_train\n",
    "    )\n",
    "\n",
    "    # sweep_id = wandb.sweep(sweep_config, project=\"KD_Transformer\")\n",
    "    with tf.device('/gpu:0'):\n",
    "      model = train()"
   ]
  },
  {
   "cell_type": "markdown",
   "id": "55d281ab",
   "metadata": {},
   "source": [
    "### Loading the Best Weights"
   ]
  },
  {
   "cell_type": "code",
   "execution_count": 19,
   "id": "a6b4d41e",
   "metadata": {},
   "outputs": [],
   "source": [
    "model = create_model()\n",
    "\n",
    "#Just to build the model first, we called this evaluate\n",
    "model.evaluate(X_test, y_test, batch_size=8, steps=X_test.shape[0]/8)\n",
    "\n",
    "#loading best weights and evaluating\n",
    "weight_path = 'tmp/weights.ckpt'\n",
    "model.load_weights(weight_path)\n",
    "model.evaluate(X_test, y_test, batch_size=8, steps=X_test.shape[0]/8)"
   ]
  },
  {
   "cell_type": "markdown",
   "id": "78646dc8",
   "metadata": {},
   "source": [
    "## Ploting ROC Curve"
   ]
  },
  {
   "cell_type": "code",
   "execution_count": 29,
   "id": "fc88dd1b",
   "metadata": {},
   "outputs": [
    {
     "name": "stdout",
     "output_type": "stream",
     "text": [
      "5/5 [==============================] - 1s 162ms/step\n"
     ]
    }
   ],
   "source": [
    "y_pred = model.predict(X_test).ravel()\n",
    "fp_pred, tp_pred, threshold_pred = roc_curve(y_test, y_pred)"
   ]
  },
  {
   "cell_type": "code",
   "execution_count": 31,
   "id": "231174bb",
   "metadata": {},
   "outputs": [],
   "source": [
    "auc = auc(fp_pred, tp_pred)"
   ]
  },
  {
   "cell_type": "code",
   "execution_count": 35,
   "id": "b598cd2b",
   "metadata": {},
   "outputs": [
    {
     "data": {
      "image/png": "[encoded data removed]",
      "text/plain": [
       "<Figure size 640x480 with 1 Axes>"
      ]
     },
     "metadata": {},
     "output_type": "display_data"
    }
   ],
   "source": [
    "plt.figure()\n",
    "plt.plot([0,1], [0, 1], 'k--')\n",
    "plt.plot(fp_pred, tp_pred, label = 'SmartFall (area = {:.3f})'.format(auc))\n",
    "plt.xlabel('False Positive Rate')\n",
    "plt.ylabel('True Positive Rate')\n",
    "plt.title('ROC Curve')\n",
    "plt.show()"
   ]
  },
  {
   "cell_type": "code",
   "execution_count": null,
   "id": "4537d01a",
   "metadata": {},
   "outputs": [],
   "source": []
  }
 ],
 "metadata": {
  "kernelspec": {
   "display_name": "Python 3 (ipykernel)",
   "language": "python",
   "name": "python3"
  },
  "language_info": {
   "codemirror_mode": {
    "name": "ipython",
    "version": 3
   },
   "file_extension": ".py",
   "mimetype": "text/x-python",
   "name": "python",
   "nbconvert_exporter": "python",
   "pygments_lexer": "ipython3",
   "version": "3.9.6"
  }
 },
 "nbformat": 4,
 "nbformat_minor": 5
}
