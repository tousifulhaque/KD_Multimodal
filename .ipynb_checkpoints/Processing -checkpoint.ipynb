{
 "cells": [
  {
   "cell_type": "code",
   "execution_count": 3,
   "id": "4a7e086c",
   "metadata": {},
   "outputs": [],
   "source": [
    "import glob\n",
    "import os"
   ]
  },
  {
   "cell_type": "code",
   "execution_count": 4,
   "id": "38b75d1b",
   "metadata": {},
   "outputs": [],
   "source": [
    "import pandas as pd\n",
    "import json \n",
    "import csv"
   ]
  },
  {
   "cell_type": "code",
   "execution_count": 6,
   "id": "9d7e64a0",
   "metadata": {},
   "outputs": [],
   "source": [
    "filenames = glob.glob('/Users/tousif/Lstm_transformer/KD_Multimodal/dataset/skeleton_data/**/**/UPDATED_device1.json', recursive=True)"
   ]
  },
  {
   "cell_type": "code",
   "execution_count": 4,
   "id": "64c469c6",
   "metadata": {},
   "outputs": [],
   "source": [
    "for file in filenames[:1]:\n",
    "    with open(file) as json_file:\n",
    "        data = json.load(json_file)\n",
    "    split_file = file.split('/') #[user , tousif, lstm_]\n",
    "    dir_arr = split_file[:-1] #[upto a_back]\n",
    "    activity_name = split_file[-2]#[a_back]\n",
    "    file_dir = '/'.join(dir_arr)#data root directory\n",
    "    row_arr = []\n",
    "    frames = data['frames']\n",
    "    for frame in frames:\n",
    "       \n",
    "        frame_id = int(frame['frame_id'])\n",
    "        if frame_id == 0:\n",
    "            continue\n",
    "            \n",
    "        row_arr.append([]) #[[]]\n",
    "    #     print(row_arr)\n",
    "\n",
    "        timestamp = frame['timestamp_usec'] / 1000000\n",
    "        timestamp = round(timestamp, 4)\n",
    "        row_arr[frame_id-1].append(timestamp)#[[30188]]\n",
    "        if frame['bodies']:\n",
    "            for position in frame['bodies'][0]['joint_positions']:\n",
    "                for cord in position: \n",
    "                    row_arr[frame_id-1].append(cord)\n",
    "    df = pd.DataFrame(row_arr)\n",
    "    os.chdir(file_dir)\n",
    "    df.to_csv(activity_name+'.csv')"
   ]
  }
 ],
 "metadata": {
  "kernelspec": {
   "display_name": "Python 3 (ipykernel)",
   "language": "python",
   "name": "python3"
  },
  "language_info": {
   "codemirror_mode": {
    "name": "ipython",
    "version": 3
   },
   "file_extension": ".py",
   "mimetype": "text/x-python",
   "name": "python",
   "nbconvert_exporter": "python",
   "pygments_lexer": "ipython3",
   "version": "3.9.6"
  }
 },
 "nbformat": 4,
 "nbformat_minor": 5
}
