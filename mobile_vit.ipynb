{
 "cells": [
  {
   "cell_type": "code",
   "execution_count": 14,
   "id": "f60296eb",
   "metadata": {},
   "outputs": [],
   "source": [
    "import warnings\n",
    "import logging\n",
    "import os\n",
    "import math\n",
    "import glob"
   ]
  },
  {
   "cell_type": "code",
   "execution_count": 15,
   "id": "1fbe1073",
   "metadata": {},
   "outputs": [],
   "source": [
    "warnings.simplefilter('ignore')\n",
    "os.environ['TF_CPP_MIN_LOG_LEVEL'] = '3'  # FATAL\n",
    "logging.getLogger('tensorflow').setLevel(logging.FATAL)"
   ]
  },
  {
   "cell_type": "code",
   "execution_count": 16,
   "id": "adb57877",
   "metadata": {},
   "outputs": [],
   "source": [
    "#tensorflow imports \n",
    "from tensorflow import keras\n",
    "import tensorflow as tf\n",
    "from tensorflow.keras.optimizers import Adam\n",
    "from tensorflow.keras.callbacks import LearningRateScheduler, Callback, ModelCheckpoint\n",
    "from tensorflow.keras.losses import BinaryCrossentropy\n",
    "from tensorflow.keras.layers import Add, Dense, LayerNormalization,GlobalAveragePooling1D\n",
    "from tensorflow.keras.layers import Conv1D, Dropout, MultiHeadAttention, Layer, Embedding\n",
    "from tensorflow.keras.initializers import TruncatedNormal\n",
    "from tensorflow.keras.metrics import Recall, Precision, AUC\n",
    "\n",
    "#local package import \n",
    "import numpy as np\n",
    "import matplotlib.pyplot as plt"
   ]
  },
  {
   "cell_type": "code",
   "execution_count": null,
   "id": "c497dac2",
   "metadata": {},
   "outputs": [],
   "source": [
    "/home/bgu9/KD_Multimodal/datasets/SmartFall/phone&watch/train/Fall"
   ]
  },
  {
   "cell_type": "code",
   "execution_count": 19,
   "id": "f98fea8b",
   "metadata": {},
   "outputs": [
    {
     "ename": "SyntaxError",
     "evalue": "invalid syntax (<ipython-input-19-b4f3e7a3090a>, line 1)",
     "output_type": "error",
     "traceback": [
      "\u001b[0;36m  File \u001b[0;32m\"<ipython-input-19-b4f3e7a3090a>\"\u001b[0;36m, line \u001b[0;32m1\u001b[0m\n\u001b[0;31m    def preprocessing(mode = 'train', root_dir = 'dataset/SmartFall',data_types = 'phone&watch' new_len = 128, in_chan = 3):\u001b[0m\n\u001b[0m                                                                                                      ^\u001b[0m\n\u001b[0;31mSyntaxError\u001b[0m\u001b[0;31m:\u001b[0m invalid syntax\n"
     ]
    }
   ],
   "source": [
    "def preprocessing(mode = 'train', root_dir = 'dataset/SmartFall',data_types = 'phone&watch' new_len = 128, in_chan = 3):\n",
    "    fall = os.path.join(os.getcwd() , f'{root_dir}/{data_type}/{mode}/Fall/***.xlsx')\n",
    "    adl = os.path.join(os.getcwd(), f'{root_dir}/{data_type}/{mode}/ADL/***.xlsx')\n",
    "    fall_files = glob.glob(fall)\n",
    "    adl_files = glob.glob(adl)\n",
    "\n",
    "    all_file_path = fall_files + adl_files\n",
    "    samples = len(all_file_path)\n",
    "    dataset = np.zeros((1,new_len, in_chan))\n",
    "    \n",
    "    if len(all_file_path) == 0:\n",
    "        raise Exception('Data files not found')\n",
    " \n",
    "    trials_count = {}\n",
    "    fall_pattern = re.compile(\"Fall\")\n",
    "    trials = []\n",
    "    labels = []\n",
    "    length = []\n",
    "    #count = 0\n",
    "\n",
    "    for file_path in all_file_path[:1]:\n",
    "        label = None\n",
    "        if fall_pattern.search(file_path):\n",
    "            label = 1\n",
    "        else:\n",
    "            label = 0\n",
    "\n",
    "        #checking if the excel has 2 sheets or not\n",
    "        if len (pd.ExcelFile(file_path).sheet_names) == 2:\n",
    "                df = pd.read_excel(file_path, sheet_name=-1)\n",
    "                print(df)\n",
    "                df = df.iloc[:, :6]\n",
    "                null_col = df[df.isnull().any(axis = 1)].index.to_list()\n",
    "                \n",
    "                if len(null_col) % 10 != 0  :\n",
    "                    print(f'{file_path} trimmed file contains {len(null_col)} of null rows')\n",
    "                    continue\n",
    "                    \n",
    "                    #raise Exception(f'{file_path} trimmed file contains {len(null_col)} of null rows')\n",
    "                #calculating how many null segments we have \n",
    "                null_col = df[df.isnull().any(axis = 1)].index.to_list()\n",
    "                null_seg = len(null_col)//10\n",
    "                \n",
    "\n",
    "                trial_start_lst = null_col[9::10]\n",
    "                trial_end_lst = null_col[10::10]\n",
    "                \n",
    "                for i in range(len(null_col)//10 + 1):\n",
    "                    #trials_count[label] = trials_count.get(label , 0) + 1\n",
    "                    trial = None\n",
    "                    if i == 0 :\n",
    "\n",
    "                        trial = df.iloc[0:null_col[1]-1, 3:6]\n",
    "                    elif i == null_seg :\n",
    "                        trial = df.iloc[trial_start_lst[-1]+1:, 3:6]\n",
    "                    else: \n",
    "                        trial_end = trial_end_lst[i-1]\n",
    "                        trial_start = trial_start_lst[i-1] + 1\n",
    "                        trial = df.iloc[trial_start : trial_end-1 , 3:6]\n",
    "                        trial.dropna(inplace = True)\n",
    "                    \n",
    "                    #trial = tf.convert_to_tensor(trial.values, dtype = tf.float32)\n",
    "                    act_len = trial.shape[0]\n",
    "                    channel = trial.shape[1]\n",
    "                    x = np.linspace(1, act_len, num=new_len)\n",
    "                    xp = np.linspace(1, act_len, num= act_len)\n",
    "                    interpolated_data = np.zeros((1,new_len,channel))\n",
    "                    trial = trial.to_numpy()\n",
    "                    if trial.shape[0] == 0:\n",
    "                        continue\n",
    "                        \n",
    "                    else:\n",
    "                        for idx in range(channel):\n",
    "                            yp = trial[:, idx]\n",
    "                            axis_interpolated = np.interp(x, xp, yp)\n",
    "                            interpolated_data[0,:, idx] = axis_interpolated\n",
    "                        dataset = np.concatenate((dataset,interpolated_data), axis = 0)\n",
    "                        labels.append(label)\n",
    "        \n",
    "        else:\n",
    "            raise Exception(f'{file_path} doesnt have trimmed data')\n",
    "        \n",
    "    return tf.convert_to_tensor(dataset[1:, :, :]), tf.convert_to_tensor(labels)"
   ]
  },
  {
   "cell_type": "code",
   "execution_count": 18,
   "id": "04092336",
   "metadata": {},
   "outputs": [
    {
     "ename": "Exception",
     "evalue": "Data files not found",
     "output_type": "error",
     "traceback": [
      "\u001b[0;31m---------------------------------------------------------------------------\u001b[0m",
      "\u001b[0;31mException\u001b[0m                                 Traceback (most recent call last)",
      "\u001b[0;32m<ipython-input-18-c6a85aec0fe4>\u001b[0m in \u001b[0;36m<module>\u001b[0;34m\u001b[0m\n\u001b[0;32m----> 1\u001b[0;31m \u001b[0mdataset\u001b[0m\u001b[0;34m,\u001b[0m \u001b[0mlabels\u001b[0m \u001b[0;34m=\u001b[0m \u001b[0mpreprocessing\u001b[0m\u001b[0;34m(\u001b[0m\u001b[0;34m)\u001b[0m\u001b[0;34m\u001b[0m\u001b[0;34m\u001b[0m\u001b[0m\n\u001b[0m",
      "\u001b[0;32m<ipython-input-17-a8e127b0307d>\u001b[0m in \u001b[0;36mpreprocessing\u001b[0;34m(mode, root_dir, new_len, in_chan)\u001b[0m\n\u001b[1;32m     10\u001b[0m \u001b[0;34m\u001b[0m\u001b[0m\n\u001b[1;32m     11\u001b[0m     \u001b[0;32mif\u001b[0m \u001b[0mlen\u001b[0m\u001b[0;34m(\u001b[0m\u001b[0mall_file_path\u001b[0m\u001b[0;34m)\u001b[0m \u001b[0;34m==\u001b[0m \u001b[0;36m0\u001b[0m\u001b[0;34m:\u001b[0m\u001b[0;34m\u001b[0m\u001b[0;34m\u001b[0m\u001b[0m\n\u001b[0;32m---> 12\u001b[0;31m         \u001b[0;32mraise\u001b[0m \u001b[0mException\u001b[0m\u001b[0;34m(\u001b[0m\u001b[0;34m'Data files not found'\u001b[0m\u001b[0;34m)\u001b[0m\u001b[0;34m\u001b[0m\u001b[0;34m\u001b[0m\u001b[0m\n\u001b[0m\u001b[1;32m     13\u001b[0m \u001b[0;34m\u001b[0m\u001b[0m\n\u001b[1;32m     14\u001b[0m     \u001b[0mtrials_count\u001b[0m \u001b[0;34m=\u001b[0m \u001b[0;34m{\u001b[0m\u001b[0;34m}\u001b[0m\u001b[0;34m\u001b[0m\u001b[0;34m\u001b[0m\u001b[0m\n",
      "\u001b[0;31mException\u001b[0m: Data files not found"
     ]
    }
   ],
   "source": [
    "dataset, labels = preprocessing()"
   ]
  },
  {
   "cell_type": "markdown",
   "id": "77678c42",
   "metadata": {},
   "source": [
    "### Custom Metrics"
   ]
  },
  {
   "cell_type": "code",
   "execution_count": 4,
   "id": "a133251d",
   "metadata": {},
   "outputs": [],
   "source": [
    "class F1_Score(tf.keras.metrics.Metric):\n",
    "\n",
    "    def __init__(self, name='f1_score', **kwargs):\n",
    "        super().__init__(name=name, **kwargs)\n",
    "        self.f1 = self.add_weight(name='f1', initializer='zeros')\n",
    "        self.precision_fn = Precision(thresholds=0.5)\n",
    "        self.recall_fn = Recall(thresholds=0.5)\n",
    "\n",
    "    def update_state(self, y_true, y_pred, sample_weight=None):\n",
    "        p = self.precision_fn(y_true, y_pred)\n",
    "        r = self.recall_fn(y_true, y_pred)\n",
    "        # since f1 is a variable, we use assign\n",
    "        self.f1.assign(2 * ((p * r) / (p + r + 1e-6)))\n",
    "\n",
    "    def result(self):\n",
    "        return self.f1\n",
    "\n",
    "    def reset_states(self):\n",
    "        # we also need to reset the state of the precision and recall objects\n",
    "        self.precision_fn.reset_states()\n",
    "        self.recall_fn.reset_states()\n",
    "        self.f1.assign(0)"
   ]
  },
  {
   "cell_type": "markdown",
   "id": "3c9806ad",
   "metadata": {},
   "source": [
    "### Learning Rate Scheduler"
   ]
  },
  {
   "cell_type": "code",
   "execution_count": 5,
   "id": "16b90978",
   "metadata": {},
   "outputs": [],
   "source": [
    "def cosine_schedule(base_lr, total_steps, warmup_steps ):\n",
    "    def step_fn(epoch):\n",
    "        lr = base_lr \n",
    "        progress = (epoch - warmup_steps) / float(total_steps -  warmup_steps)\n",
    "\n",
    "        progress = tf.clip_by_value(progress, 0.0, 1.0)\n",
    "\n",
    "        lr = lr * 0.5 * (1.0 + tf.cos(math.pi * progress))\n",
    "        \n",
    "        if warmup_steps:\n",
    "            lr = lr * tf.minimum(1.0 , epoch/warmup_steps)\n",
    "        \n",
    "        return lr\n",
    "    \n",
    "\n",
    "    return step_fn"
   ]
  },
  {
   "cell_type": "markdown",
   "id": "25ea991f",
   "metadata": {},
   "source": [
    "### Sliding Data into Windows"
   ]
  },
  {
   "cell_type": "code",
   "execution_count": 25,
   "id": "97c078e5",
   "metadata": {},
   "outputs": [],
   "source": [
    "def get_positional_embedding(seq_len,d_model, n = 10000):\n",
    "    P = np.zeros((seq_len, d_model))\n",
    "    for k in range(seq_len):\n",
    "        for i in np.arange(int(d_model/2)):\n",
    "            denominator = np.power(n, 2*i/d_model)\n",
    "            P[k, 2*i] = np.sin(k/denominator)\n",
    "            P[k, 2*i + 1] = np.cos(k/denominator)\n",
    "    P = P[np.newaxis, : ,:]\n",
    "    return tf.Variable(P,trainable = False ,dtype = tf.float32)"
   ]
  },
  {
   "cell_type": "markdown",
   "id": "5afdd83b",
   "metadata": {},
   "source": [
    "### Plot positional embedding"
   ]
  },
  {
   "cell_type": "code",
   "execution_count": null,
   "id": "1917e2ee",
   "metadata": {},
   "outputs": [],
   "source": [
    "fig = plt.figure(figsize = (15,5))\n",
    "for i in range(2):\n",
    "    ax = plt.subplot(1, 2, 1+i)\n",
    "    matrix = tf.reshape(postional_embedding, (512, 256))\n",
    "    cax = ax.matshow(matrix)\n",
    "    plt.gcf().colorbar(cax)\n",
    "    "
   ]
  },
  {
   "cell_type": "code",
   "execution_count": 27,
   "id": "2d072c12",
   "metadata": {},
   "outputs": [],
   "source": [
    "def encoder(x, embed_dim, mlp_dim, num_heads, dropout_rate, attention_dropout_rate, length, channel):\n",
    "    \n",
    "    #attention_layer\n",
    "    y = LayerNormalization(epsilon = 1e-6)(x)\n",
    "    y = MultiHeadAttention(num_heads = num_heads,key_dim = embed_dim,dropout = attention_dropout_rate, kernel_initializer = TruncatedNormal(stddev = 0.02))(query = x,value = x,key = x,training = True)\n",
    "    y = Dropout(rate = dropout_rate)(y)\n",
    "    y = Add()([x,y])\n",
    "    \n",
    "    #mlp_layer\n",
    "    y = LayerNormalization(epsilon = 1e-6)(x)\n",
    "    y = Dense(units = mlp_dim, kernel_initializer = TruncatedNormal(stddev = 0.02))(y)\n",
    "    y = Dropout(rate = dropout_rate)(y)\n",
    "    y = Dense(units = embed_dim, kernel_initializer = TruncatedNormal(stddev = 0.02))(y)\n",
    "    y = Dropout(rate = dropout_rate)(y)\n",
    "    y = Add()([x, y])\n",
    "    \n",
    "    return y\n",
    "    \n",
    "    "
   ]
  },
  {
   "cell_type": "code",
   "execution_count": 28,
   "id": "386f52ac",
   "metadata": {},
   "outputs": [],
   "source": [
    "def transformer(length, channels,num_layers, embed_dim, mlp_dim, num_heads, dropout_rate, attention_dropout_rate):\n",
    "    \n",
    "    #initial normalization\n",
    "    pos_embed = get_positional_embedding(length, embed_dim)\n",
    "    inputs= keras.Input(shape = (length, channels))\n",
    "    x = Dense(embed_dim)(inputs)\n",
    "    #x = Normalization()(inputs)\n",
    "    x = x + pos_embed\n",
    "    #stacking encoder layers\n",
    "    for _ in range(num_layers):\n",
    "        x = encoder(x,embed_dim, mlp_dim, num_heads, dropout_rate, attention_dropout_rate, length,channels)\n",
    "    x = LayerNormalization(epsilon=1e-5)(x)\n",
    "    \n",
    "    #pooling\n",
    "    x = GlobalAveragePooling1D(data_format = 'channels_first')(x)\n",
    "    \n",
    "    #output\n",
    "    output = Dense(1, kernel_initializer=\"zeros\", activation = 'sigmoid')(x)\n",
    "    \n",
    "    return keras.Model(inputs, output)"
   ]
  },
  {
   "cell_type": "code",
   "execution_count": 33,
   "id": "a4e47042",
   "metadata": {},
   "outputs": [],
   "source": [
    "config = {\n",
    "  'epochs': 50,\n",
    "  'length':50,\n",
    "  'channel':3,\n",
    "  'num_layers':  2,\n",
    "  'embed_layer_size': 32,\n",
    "  'global_clipnorm' : 3.0,\n",
    "  'fc_layer_size': 128,\n",
    "  'num_heads': 4,\n",
    "  'dropout': 0.1,\n",
    "  'attention_dropout': 0.1,\n",
    "  'optimizer': 'adam',\n",
    "  'amsgrad': False,\n",
    "  'label_smoothing': 0.1,\n",
    "  'learning_rate': 1e-3,\n",
    "  #'weight_decay': {\n",
    "  #    'values': [2.5e-4, 1e-4, 5e-5, 1e-5]\n",
    "  'warmup_steps': 5,\n",
    "  'batch_size': 8}"
   ]
  },
  {
   "cell_type": "code",
   "execution_count": 34,
   "id": "b79000de",
   "metadata": {},
   "outputs": [],
   "source": [
    "model = transformer(length = config['length'],\n",
    "        channels=config['channel'],\n",
    "        num_heads=config['num_heads'],\n",
    "        dropout_rate = config['dropout'],\n",
    "        attention_dropout_rate = config['attention_dropout'],\n",
    "        embed_dim =config['embed_layer_size'],\n",
    "        mlp_dim = config['fc_layer_size'], \n",
    "        num_layers = config['num_layers'])"
   ]
  },
  {
   "cell_type": "markdown",
   "id": "e8eb6c0e",
   "metadata": {},
   "source": [
    "### Loading data"
   ]
  },
  {
   "cell_type": "code",
   "execution_count": 35,
   "id": "af639e1a",
   "metadata": {},
   "outputs": [],
   "source": [
    "train_dataset_path = os.path.join(os.getcwd(), 'window_train.npz')\n",
    "val_dataset_path = os.path.join(os.getcwd(), 'window_val.npz')\n",
    "\n",
    "#loading train dataset\n",
    "train_data = np.load(train_dataset_path)\n",
    "X_train = train_data['trials']\n",
    "y_train = train_data['labels']\n",
    "\n",
    "#loading val dataset\n",
    "val_data = np.load(val_dataset_path)\n",
    "X_val = val_data[ 'trials']\n",
    "y_val = val_data['labels']"
   ]
  },
  {
   "cell_type": "markdown",
   "id": "55ca3eda",
   "metadata": {},
   "source": [
    "### Model training"
   ]
  },
  {
   "cell_type": "code",
   "execution_count": 36,
   "id": "baa43285",
   "metadata": {},
   "outputs": [
    {
     "name": "stdout",
     "output_type": "stream",
     "text": [
      "Epoch 1/50\n",
      "759/759 [==============================] - 23s 26ms/step - loss: 0.6931 - recall_2: 0.0000e+00 - precision_2: 0.0000e+00 - auc_1: 0.4993 - f1_score: 0.0000e+00 - val_loss: 0.6931 - val_recall_2: 0.0000e+00 - val_precision_2: 0.0000e+00 - val_auc_1: 0.5000 - val_f1_score: 0.0000e+00\n",
      "\n",
      "Epoch 00001: val_f1_score improved from -inf to 0.00000, saving model to /home/bgu9/KD_Multimodal/tmp/weights.ckpt\n",
      "Epoch 2/50\n",
      "759/759 [==============================] - 18s 23ms/step - loss: 0.5577 - recall_2: 0.9903 - precision_2: 0.8414 - auc_1: 0.5139 - f1_score: 0.9095 - val_loss: 0.5515 - val_recall_2: 1.0000 - val_precision_2: 0.7821 - val_auc_1: 0.6245 - val_f1_score: 0.8777\n",
      "\n",
      "Epoch 00002: val_f1_score improved from 0.00000 to 0.87774, saving model to /home/bgu9/KD_Multimodal/tmp/weights.ckpt\n",
      "Epoch 3/50\n",
      "759/759 [==============================] - 17s 23ms/step - loss: 0.4727 - recall_2: 0.9989 - precision_2: 0.8440 - auc_1: 0.5859 - f1_score: 0.9149 - val_loss: 0.5503 - val_recall_2: 0.9976 - val_precision_2: 0.7832 - val_auc_1: 0.6367 - val_f1_score: 0.8775\n",
      "\n",
      "Epoch 00003: val_f1_score did not improve from 0.87774\n",
      "Epoch 4/50\n",
      "759/759 [==============================] - 18s 23ms/step - loss: 0.4726 - recall_2: 0.9982 - precision_2: 0.8408 - auc_1: 0.6114 - f1_score: 0.9127 - val_loss: 0.5445 - val_recall_2: 1.0000 - val_precision_2: 0.7836 - val_auc_1: 0.6482 - val_f1_score: 0.8787\n",
      "\n",
      "Epoch 00004: val_f1_score improved from 0.87774 to 0.87866, saving model to /home/bgu9/KD_Multimodal/tmp/weights.ckpt\n",
      "Epoch 5/50\n",
      "759/759 [==============================] - 18s 23ms/step - loss: 0.4647 - recall_2: 0.9940 - precision_2: 0.8474 - auc_1: 0.6260 - f1_score: 0.9148 - val_loss: 0.5658 - val_recall_2: 0.9500 - val_precision_2: 0.7748 - val_auc_1: 0.6247 - val_f1_score: 0.8535\n",
      "\n",
      "Epoch 00005: val_f1_score did not improve from 0.87866\n",
      "Epoch 6/50\n",
      "759/759 [==============================] - 18s 24ms/step - loss: 0.4792 - recall_2: 0.9880 - precision_2: 0.8402 - auc_1: 0.6334 - f1_score: 0.9081 - val_loss: 0.5559 - val_recall_2: 0.9786 - val_precision_2: 0.7799 - val_auc_1: 0.6076 - val_f1_score: 0.8680\n",
      "\n",
      "Epoch 00006: val_f1_score did not improve from 0.87866\n",
      "Epoch 7/50\n",
      "759/759 [==============================] - 18s 23ms/step - loss: 0.4520 - recall_2: 0.9927 - precision_2: 0.8551 - auc_1: 0.6738 - f1_score: 0.9188 - val_loss: 0.5588 - val_recall_2: 0.9476 - val_precision_2: 0.7789 - val_auc_1: 0.6060 - val_f1_score: 0.8550\n",
      "\n",
      "Epoch 00007: val_f1_score did not improve from 0.87866\n",
      "Epoch 8/50\n",
      "759/759 [==============================] - 17s 23ms/step - loss: 0.4624 - recall_2: 0.9917 - precision_2: 0.8486 - auc_1: 0.6640 - f1_score: 0.9145 - val_loss: 0.6167 - val_recall_2: 0.9214 - val_precision_2: 0.7725 - val_auc_1: 0.5540 - val_f1_score: 0.8404\n",
      "\n",
      "Epoch 00008: val_f1_score did not improve from 0.87866\n",
      "Epoch 9/50\n",
      "759/759 [==============================] - 18s 23ms/step - loss: 0.4592 - recall_2: 0.9915 - precision_2: 0.8552 - auc_1: 0.6753 - f1_score: 0.9183 - val_loss: 0.5522 - val_recall_2: 1.0000 - val_precision_2: 0.7836 - val_auc_1: 0.6406 - val_f1_score: 0.8787\n",
      "\n",
      "Epoch 00009: val_f1_score did not improve from 0.87866\n",
      "Epoch 10/50\n",
      "759/759 [==============================] - 17s 23ms/step - loss: 0.4533 - recall_2: 0.9885 - precision_2: 0.8619 - auc_1: 0.6815 - f1_score: 0.9209 - val_loss: 0.5501 - val_recall_2: 0.9452 - val_precision_2: 0.7924 - val_auc_1: 0.6425 - val_f1_score: 0.8621\n",
      "\n",
      "Epoch 00010: val_f1_score did not improve from 0.87866\n",
      "Epoch 11/50\n",
      "759/759 [==============================] - 17s 23ms/step - loss: 0.4492 - recall_2: 0.9910 - precision_2: 0.8628 - auc_1: 0.6803 - f1_score: 0.9225 - val_loss: 0.5848 - val_recall_2: 0.9381 - val_precision_2: 0.7928 - val_auc_1: 0.6234 - val_f1_score: 0.8593\n",
      "\n",
      "Epoch 00011: val_f1_score did not improve from 0.87866\n",
      "Epoch 12/50\n",
      "759/759 [==============================] - 17s 23ms/step - loss: 0.4514 - recall_2: 0.9913 - precision_2: 0.8609 - auc_1: 0.6779 - f1_score: 0.9215 - val_loss: 0.5882 - val_recall_2: 0.9333 - val_precision_2: 0.7856 - val_auc_1: 0.6258 - val_f1_score: 0.8531\n",
      "\n",
      "Epoch 00012: val_f1_score did not improve from 0.87866\n",
      "Epoch 13/50\n",
      "759/759 [==============================] - 17s 23ms/step - loss: 0.4625 - recall_2: 0.9908 - precision_2: 0.8525 - auc_1: 0.6945 - f1_score: 0.9164 - val_loss: 0.5610 - val_recall_2: 0.9810 - val_precision_2: 0.7878 - val_auc_1: 0.6472 - val_f1_score: 0.8738\n",
      "\n",
      "Epoch 00013: val_f1_score did not improve from 0.87866\n",
      "Epoch 14/50\n",
      "759/759 [==============================] - 18s 23ms/step - loss: 0.4477 - recall_2: 0.9895 - precision_2: 0.8629 - auc_1: 0.7121 - f1_score: 0.9219 - val_loss: 0.5735 - val_recall_2: 0.9690 - val_precision_2: 0.7872 - val_auc_1: 0.6162 - val_f1_score: 0.8687\n",
      "\n",
      "Epoch 00014: val_f1_score did not improve from 0.87866\n",
      "Epoch 15/50\n",
      "759/759 [==============================] - 17s 23ms/step - loss: 0.4491 - recall_2: 0.9895 - precision_2: 0.8637 - auc_1: 0.7202 - f1_score: 0.9223 - val_loss: 0.5539 - val_recall_2: 0.9738 - val_precision_2: 0.7926 - val_auc_1: 0.6689 - val_f1_score: 0.8739\n",
      "\n",
      "Epoch 00015: val_f1_score did not improve from 0.87866\n",
      "Epoch 16/50\n",
      "759/759 [==============================] - 18s 23ms/step - loss: 0.4399 - recall_2: 0.9932 - precision_2: 0.8695 - auc_1: 0.7035 - f1_score: 0.9272 - val_loss: 0.6837 - val_recall_2: 0.8952 - val_precision_2: 0.8246 - val_auc_1: 0.6318 - val_f1_score: 0.8584\n",
      "\n",
      "Epoch 00016: val_f1_score did not improve from 0.87866\n",
      "Epoch 17/50\n",
      "759/759 [==============================] - 17s 22ms/step - loss: 0.4488 - recall_2: 0.9863 - precision_2: 0.8670 - auc_1: 0.7299 - f1_score: 0.9228 - val_loss: 0.5641 - val_recall_2: 0.9548 - val_precision_2: 0.7909 - val_auc_1: 0.6802 - val_f1_score: 0.8652\n",
      "\n",
      "Epoch 00017: val_f1_score did not improve from 0.87866\n",
      "Epoch 18/50\n",
      "759/759 [==============================] - 17s 23ms/step - loss: 0.4401 - recall_2: 0.9907 - precision_2: 0.8626 - auc_1: 0.7659 - f1_score: 0.9222 - val_loss: 0.5601 - val_recall_2: 0.9571 - val_precision_2: 0.7882 - val_auc_1: 0.6920 - val_f1_score: 0.8645\n",
      "\n",
      "Epoch 00018: val_f1_score did not improve from 0.87866\n",
      "Epoch 19/50\n",
      "759/759 [==============================] - 17s 23ms/step - loss: 0.4357 - recall_2: 0.9917 - precision_2: 0.8678 - auc_1: 0.7573 - f1_score: 0.9256 - val_loss: 0.5976 - val_recall_2: 0.9476 - val_precision_2: 0.7913 - val_auc_1: 0.6729 - val_f1_score: 0.8624\n",
      "\n",
      "Epoch 00019: val_f1_score did not improve from 0.87866\n",
      "Epoch 20/50\n",
      "759/759 [==============================] - 17s 23ms/step - loss: 0.4448 - recall_2: 0.9922 - precision_2: 0.8618 - auc_1: 0.7514 - f1_score: 0.9224 - val_loss: 0.6033 - val_recall_2: 0.9167 - val_precision_2: 0.7971 - val_auc_1: 0.6825 - val_f1_score: 0.8527\n",
      "\n",
      "Epoch 00020: val_f1_score did not improve from 0.87866\n",
      "Epoch 21/50\n",
      "759/759 [==============================] - 18s 23ms/step - loss: 0.4231 - recall_2: 0.9931 - precision_2: 0.8761 - auc_1: 0.7672 - f1_score: 0.9309 - val_loss: 0.5816 - val_recall_2: 0.9500 - val_precision_2: 0.7917 - val_auc_1: 0.6735 - val_f1_score: 0.8636\n",
      "\n",
      "Epoch 00021: val_f1_score did not improve from 0.87866\n",
      "Epoch 22/50\n",
      "759/759 [==============================] - 17s 23ms/step - loss: 0.4248 - recall_2: 0.9914 - precision_2: 0.8756 - auc_1: 0.7676 - f1_score: 0.9299 - val_loss: 0.5619 - val_recall_2: 0.9429 - val_precision_2: 0.8148 - val_auc_1: 0.7142 - val_f1_score: 0.8742\n",
      "\n",
      "Epoch 00022: val_f1_score did not improve from 0.87866\n",
      "Epoch 23/50\n",
      "759/759 [==============================] - 17s 23ms/step - loss: 0.4313 - recall_2: 0.9909 - precision_2: 0.8739 - auc_1: 0.7736 - f1_score: 0.9287 - val_loss: 0.5828 - val_recall_2: 0.9119 - val_precision_2: 0.8149 - val_auc_1: 0.6965 - val_f1_score: 0.8607\n",
      "\n",
      "Epoch 00023: val_f1_score did not improve from 0.87866\n",
      "Epoch 24/50\n",
      "759/759 [==============================] - 18s 23ms/step - loss: 0.4282 - recall_2: 0.9883 - precision_2: 0.8729 - auc_1: 0.7849 - f1_score: 0.9270 - val_loss: 0.5626 - val_recall_2: 0.9571 - val_precision_2: 0.8024 - val_auc_1: 0.7083 - val_f1_score: 0.8730\n",
      "\n",
      "Epoch 00024: val_f1_score did not improve from 0.87866\n",
      "Epoch 25/50\n",
      "759/759 [==============================] - 17s 23ms/step - loss: 0.4236 - recall_2: 0.9929 - precision_2: 0.8744 - auc_1: 0.7875 - f1_score: 0.9299 - val_loss: 0.5806 - val_recall_2: 0.9429 - val_precision_2: 0.8032 - val_auc_1: 0.7145 - val_f1_score: 0.8675\n",
      "\n",
      "Epoch 00025: val_f1_score did not improve from 0.87866\n",
      "Epoch 26/50\n",
      "759/759 [==============================] - 17s 23ms/step - loss: 0.4228 - recall_2: 0.9915 - precision_2: 0.8746 - auc_1: 0.7895 - f1_score: 0.9294 - val_loss: 0.5712 - val_recall_2: 0.9452 - val_precision_2: 0.8102 - val_auc_1: 0.7041 - val_f1_score: 0.8725\n",
      "\n",
      "Epoch 00026: val_f1_score did not improve from 0.87866\n",
      "Epoch 27/50\n",
      "759/759 [==============================] - 18s 23ms/step - loss: 0.4133 - recall_2: 0.9925 - precision_2: 0.8799 - auc_1: 0.8003 - f1_score: 0.9328 - val_loss: 0.5600 - val_recall_2: 0.9310 - val_precision_2: 0.8163 - val_auc_1: 0.7227 - val_f1_score: 0.8699\n",
      "\n",
      "Epoch 00027: val_f1_score did not improve from 0.87866\n",
      "Epoch 28/50\n",
      "759/759 [==============================] - 18s 23ms/step - loss: 0.4155 - recall_2: 0.9913 - precision_2: 0.8819 - auc_1: 0.7990 - f1_score: 0.9334 - val_loss: 0.5899 - val_recall_2: 0.9381 - val_precision_2: 0.8057 - val_auc_1: 0.7062 - val_f1_score: 0.8669\n",
      "\n",
      "Epoch 00028: val_f1_score did not improve from 0.87866\n",
      "Epoch 29/50\n",
      "759/759 [==============================] - 18s 23ms/step - loss: 0.4215 - recall_2: 0.9918 - precision_2: 0.8764 - auc_1: 0.7892 - f1_score: 0.9304 - val_loss: 0.5669 - val_recall_2: 0.9262 - val_precision_2: 0.8155 - val_auc_1: 0.7253 - val_f1_score: 0.8673\n",
      "\n",
      "Epoch 00029: val_f1_score did not improve from 0.87866\n",
      "Epoch 30/50\n",
      "759/759 [==============================] - 18s 23ms/step - loss: 0.4125 - recall_2: 0.9929 - precision_2: 0.8817 - auc_1: 0.8024 - f1_score: 0.9340 - val_loss: 0.5747 - val_recall_2: 0.9238 - val_precision_2: 0.8134 - val_auc_1: 0.6957 - val_f1_score: 0.8651\n",
      "\n",
      "Epoch 00030: val_f1_score did not improve from 0.87866\n",
      "Epoch 31/50\n",
      "759/759 [==============================] - 18s 23ms/step - loss: 0.4137 - recall_2: 0.9912 - precision_2: 0.8816 - auc_1: 0.8040 - f1_score: 0.9331 - val_loss: 0.5816 - val_recall_2: 0.9381 - val_precision_2: 0.8124 - val_auc_1: 0.7151 - val_f1_score: 0.8707\n",
      "\n",
      "Epoch 00031: val_f1_score did not improve from 0.87866\n",
      "Epoch 32/50\n",
      "759/759 [==============================] - 17s 23ms/step - loss: 0.4236 - recall_2: 0.9895 - precision_2: 0.8726 - auc_1: 0.7939 - f1_score: 0.9273 - val_loss: 0.5954 - val_recall_2: 0.9095 - val_precision_2: 0.8162 - val_auc_1: 0.7065 - val_f1_score: 0.8604\n",
      "\n",
      "Epoch 00032: val_f1_score did not improve from 0.87866\n",
      "Epoch 33/50\n",
      "759/759 [==============================] - 17s 23ms/step - loss: 0.4176 - recall_2: 0.9879 - precision_2: 0.8742 - auc_1: 0.8156 - f1_score: 0.9275 - val_loss: 0.6338 - val_recall_2: 0.9024 - val_precision_2: 0.8081 - val_auc_1: 0.6834 - val_f1_score: 0.8526\n",
      "\n",
      "Epoch 00033: val_f1_score did not improve from 0.87866\n",
      "Epoch 34/50\n",
      "759/759 [==============================] - 17s 23ms/step - loss: 0.4265 - recall_2: 0.9889 - precision_2: 0.8700 - auc_1: 0.8032 - f1_score: 0.9256 - val_loss: 0.5884 - val_recall_2: 0.9214 - val_precision_2: 0.8130 - val_auc_1: 0.7141 - val_f1_score: 0.8638\n",
      "\n",
      "Epoch 00034: val_f1_score did not improve from 0.87866\n",
      "Epoch 35/50\n",
      "759/759 [==============================] - 17s 23ms/step - loss: 0.4203 - recall_2: 0.9908 - precision_2: 0.8754 - auc_1: 0.8108 - f1_score: 0.9295 - val_loss: 0.5950 - val_recall_2: 0.9405 - val_precision_2: 0.8061 - val_auc_1: 0.7139 - val_f1_score: 0.8681\n",
      "\n",
      "Epoch 00035: val_f1_score did not improve from 0.87866\n",
      "Epoch 36/50\n",
      "759/759 [==============================] - 17s 23ms/step - loss: 0.4058 - recall_2: 0.9926 - precision_2: 0.8834 - auc_1: 0.8181 - f1_score: 0.9348 - val_loss: 0.6027 - val_recall_2: 0.9143 - val_precision_2: 0.8084 - val_auc_1: 0.6962 - val_f1_score: 0.8581\n",
      "\n",
      "Epoch 00036: val_f1_score did not improve from 0.87866\n",
      "Epoch 37/50\n",
      "759/759 [==============================] - 17s 23ms/step - loss: 0.4084 - recall_2: 0.9927 - precision_2: 0.8827 - auc_1: 0.8112 - f1_score: 0.9344 - val_loss: 0.6012 - val_recall_2: 0.9357 - val_precision_2: 0.8053 - val_auc_1: 0.6988 - val_f1_score: 0.8656\n",
      "\n",
      "Epoch 00037: val_f1_score did not improve from 0.87866\n",
      "Epoch 38/50\n",
      "759/759 [==============================] - 17s 22ms/step - loss: 0.4224 - recall_2: 0.9930 - precision_2: 0.8727 - auc_1: 0.8050 - f1_score: 0.9289 - val_loss: 0.6116 - val_recall_2: 0.9262 - val_precision_2: 0.8104 - val_auc_1: 0.7001 - val_f1_score: 0.8644\n",
      "\n",
      "Epoch 00038: val_f1_score did not improve from 0.87866\n",
      "Epoch 39/50\n",
      "759/759 [==============================] - 18s 23ms/step - loss: 0.4150 - recall_2: 0.9920 - precision_2: 0.8747 - auc_1: 0.8186 - f1_score: 0.9296 - val_loss: 0.5988 - val_recall_2: 0.9310 - val_precision_2: 0.8129 - val_auc_1: 0.7059 - val_f1_score: 0.8679\n",
      "\n",
      "Epoch 00039: val_f1_score did not improve from 0.87866\n",
      "Epoch 40/50\n",
      "759/759 [==============================] - 18s 23ms/step - loss: 0.4115 - recall_2: 0.9899 - precision_2: 0.8776 - auc_1: 0.8228 - f1_score: 0.9304 - val_loss: 0.6193 - val_recall_2: 0.9048 - val_precision_2: 0.8102 - val_auc_1: 0.7012 - val_f1_score: 0.8549\n",
      "\n",
      "Epoch 00040: val_f1_score did not improve from 0.87866\n",
      "Epoch 41/50\n",
      "759/759 [==============================] - 17s 23ms/step - loss: 0.4019 - recall_2: 0.9943 - precision_2: 0.8870 - auc_1: 0.8142 - f1_score: 0.9376 - val_loss: 0.6121 - val_recall_2: 0.9143 - val_precision_2: 0.8118 - val_auc_1: 0.7042 - val_f1_score: 0.8600\n",
      "\n",
      "Epoch 00041: val_f1_score did not improve from 0.87866\n",
      "Epoch 42/50\n",
      "759/759 [==============================] - 18s 23ms/step - loss: 0.4079 - recall_2: 0.9919 - precision_2: 0.8850 - auc_1: 0.8148 - f1_score: 0.9354 - val_loss: 0.6145 - val_recall_2: 0.9048 - val_precision_2: 0.8207 - val_auc_1: 0.7074 - val_f1_score: 0.8607\n",
      "\n",
      "Epoch 00042: val_f1_score did not improve from 0.87866\n",
      "Epoch 43/50\n",
      "759/759 [==============================] - 18s 23ms/step - loss: 0.4103 - recall_2: 0.9898 - precision_2: 0.8818 - auc_1: 0.8219 - f1_score: 0.9327 - val_loss: 0.6040 - val_recall_2: 0.9190 - val_precision_2: 0.8126 - val_auc_1: 0.7096 - val_f1_score: 0.8626\n",
      "\n",
      "Epoch 00043: val_f1_score did not improve from 0.87866\n",
      "Epoch 44/50\n",
      "759/759 [==============================] - 17s 23ms/step - loss: 0.4194 - recall_2: 0.9925 - precision_2: 0.8739 - auc_1: 0.8124 - f1_score: 0.9294 - val_loss: 0.5984 - val_recall_2: 0.9190 - val_precision_2: 0.8126 - val_auc_1: 0.7133 - val_f1_score: 0.8626\n",
      "\n",
      "Epoch 00044: val_f1_score did not improve from 0.87866\n",
      "Epoch 45/50\n",
      "759/759 [==============================] - 18s 23ms/step - loss: 0.4132 - recall_2: 0.9922 - precision_2: 0.8816 - auc_1: 0.8137 - f1_score: 0.9336 - val_loss: 0.5970 - val_recall_2: 0.9262 - val_precision_2: 0.8121 - val_auc_1: 0.7149 - val_f1_score: 0.8654\n",
      "\n",
      "Epoch 00045: val_f1_score did not improve from 0.87866\n",
      "Epoch 46/50\n",
      "759/759 [==============================] - 17s 23ms/step - loss: 0.4078 - recall_2: 0.9938 - precision_2: 0.8821 - auc_1: 0.8193 - f1_score: 0.9346 - val_loss: 0.6019 - val_recall_2: 0.9190 - val_precision_2: 0.8109 - val_auc_1: 0.7091 - val_f1_score: 0.8616\n",
      "\n",
      "Epoch 00046: val_f1_score did not improve from 0.87866\n",
      "Epoch 47/50\n",
      "759/759 [==============================] - 18s 24ms/step - loss: 0.4069 - recall_2: 0.9917 - precision_2: 0.8818 - auc_1: 0.8206 - f1_score: 0.9335 - val_loss: 0.6026 - val_recall_2: 0.9238 - val_precision_2: 0.8117 - val_auc_1: 0.7108 - val_f1_score: 0.8641\n",
      "\n",
      "Epoch 00047: val_f1_score did not improve from 0.87866\n",
      "Epoch 48/50\n",
      "759/759 [==============================] - 18s 23ms/step - loss: 0.4092 - recall_2: 0.9925 - precision_2: 0.8826 - auc_1: 0.8047 - f1_score: 0.9343 - val_loss: 0.6030 - val_recall_2: 0.9190 - val_precision_2: 0.8109 - val_auc_1: 0.7098 - val_f1_score: 0.8616\n",
      "\n",
      "Epoch 00048: val_f1_score did not improve from 0.87866\n",
      "Epoch 49/50\n",
      "759/759 [==============================] - 18s 23ms/step - loss: 0.4104 - recall_2: 0.9959 - precision_2: 0.8814 - auc_1: 0.8168 - f1_score: 0.9350 - val_loss: 0.6030 - val_recall_2: 0.9190 - val_precision_2: 0.8109 - val_auc_1: 0.7095 - val_f1_score: 0.8616\n",
      "\n",
      "Epoch 00049: val_f1_score did not improve from 0.87866\n",
      "Epoch 50/50\n"
     ]
    },
    {
     "name": "stdout",
     "output_type": "stream",
     "text": [
      "759/759 [==============================] - 17s 23ms/step - loss: 0.4092 - recall_2: 0.9950 - precision_2: 0.8814 - auc_1: 0.8266 - f1_score: 0.9348 - val_loss: 0.6031 - val_recall_2: 0.9190 - val_precision_2: 0.8109 - val_auc_1: 0.7099 - val_f1_score: 0.8616\n",
      "\n",
      "Epoch 00050: val_f1_score did not improve from 0.87866\n"
     ]
    }
   ],
   "source": [
    "model.compile(\n",
    "      loss= BinaryCrossentropy(label_smoothing=config['label_smoothing']),\n",
    "      optimizer=Adam(\n",
    "          global_clipnorm=config['global_clipnorm'],\n",
    "          amsgrad=config['amsgrad'],\n",
    "      ),\n",
    "      metrics=[Recall(), Precision() , AUC(), F1_Score()],\n",
    "    )\n",
    "checkpoint_filepath = os.path.join(os.getcwd(), 'tmp/weights.ckpt')\n",
    "model_checkpoint = ModelCheckpoint(filepath = checkpoint_filepath, \n",
    "                                      save_weights_only = True, \n",
    "                                      monitor = 'val_f1_score', \n",
    "                                      mode = 'max', \n",
    "                                      save_best_only = True, \n",
    "                                      verbose = True)\n",
    "log_dir = \"logs/\"  # Specify the directory where TensorBoard logs will be saved\n",
    "tensorboard_callback = tf.keras.callbacks.TensorBoard(log_dir=log_dir, histogram_freq=1)\n",
    "history = model.fit(\n",
    "      X_train,\n",
    "      y_train,\n",
    "      batch_size=config['batch_size'],\n",
    "      epochs=config['epochs'],\n",
    "      validation_data=(X_val, y_val),\n",
    "      shuffle = True,\n",
    "      callbacks=[\n",
    "        LearningRateScheduler(cosine_schedule(base_lr=config['learning_rate'], total_steps=config['epochs'], warmup_steps=config['warmup_steps'])),\n",
    "        #EarlyStopping(monitor=\"loss\", mode='min', min_delta=0.001, patience=5),\n",
    "        model_checkpoint, tensorboard_callback\n",
    "      ],\n",
    "      verbose=1\n",
    "    )"
   ]
  },
  {
   "cell_type": "code",
   "execution_count": null,
   "id": "07f287b6",
   "metadata": {},
   "outputs": [],
   "source": []
  },
  {
   "cell_type": "markdown",
   "id": "926709b6",
   "metadata": {},
   "source": [
    "### Converting to tflite "
   ]
  },
  {
   "cell_type": "code",
   "execution_count": 37,
   "id": "c821a76b",
   "metadata": {},
   "outputs": [],
   "source": [
    "converter = tf.lite.TFLiteConverter.from_keras_model(model)"
   ]
  },
  {
   "cell_type": "code",
   "execution_count": 38,
   "id": "4fae1f17",
   "metadata": {},
   "outputs": [],
   "source": [
    "#adding special ops\n",
    "converter.target_spec.supported_ops = [\n",
    "  tf.lite.OpsSet.TFLITE_BUILTINS, # enable TensorFlow Lite ops.\n",
    "  tf.lite.OpsSet.SELECT_TF_OPS # enable TensorFlow ops. <-- Add this line\n",
    "]\n",
    "converter.target_ops = [tf.lite.OpsSet.TFLITE_BUILTINS, tf.lite.OpsSet.SELECT_TF_OPS]\n",
    "converter.allow_custom_ops=True\n",
    "converter.experimental_new_converter =True\n",
    "converter.optimizations = [tf.lite.Optimize.DEFAULT]\n",
    "\n",
    "#converting to tflite \n",
    "tflite_model = converter.convert()"
   ]
  },
  {
   "cell_type": "code",
   "execution_count": 39,
   "id": "884a0526",
   "metadata": {},
   "outputs": [],
   "source": [
    "#writing the tflite model to a file \n",
    "with open('model_sliding.tflite', 'wb') as f:\n",
    "    f.write(tflite_model)"
   ]
  },
  {
   "cell_type": "code",
   "execution_count": 6,
   "id": "37932237",
   "metadata": {},
   "outputs": [],
   "source": [
    "#using interpreter to test\n",
    "interpreter = tf.lite.Interpreter(model_path=\"model_sliding.tflite\")\n",
    "interpreter.allocate_tensors()\n",
    "input_details = interpreter.get_input_details()\n",
    "output_details = interpreter.get_output_details()"
   ]
  },
  {
   "cell_type": "code",
   "execution_count": 7,
   "id": "aa0ad02e",
   "metadata": {},
   "outputs": [],
   "source": [
    "#loading data\n",
    "test_dataset_path = os.path.join(os.getcwd(), 'window_test.npz')\n",
    "test_data = np.load(test_dataset_path)\n",
    "\n",
    "X_test = test_data['trials']\n",
    "y_test = test_data['labels']"
   ]
  },
  {
   "cell_type": "code",
   "execution_count": 29,
   "id": "6b7a6367",
   "metadata": {},
   "outputs": [],
   "source": [
    "#reshaping data\n",
    "data = X_test[6, :, :]\n",
    "data = data[np.newaxis, :]"
   ]
  },
  {
   "cell_type": "code",
   "execution_count": 11,
   "id": "7e6ac866",
   "metadata": {},
   "outputs": [
    {
     "data": {
      "text/plain": [
       "(346,)"
      ]
     },
     "execution_count": 11,
     "metadata": {},
     "output_type": "execute_result"
    }
   ],
   "source": [
    "y_test.shape"
   ]
  },
  {
   "cell_type": "code",
   "execution_count": 14,
   "id": "4ddc86c4",
   "metadata": {},
   "outputs": [
    {
     "data": {
      "text/plain": [
       "(array([  0,   1,   2,   3,   4,   5,   6,   7,   8,   9,  10,  11,  12,\n",
       "         13,  14,  15,  16,  17,  18,  19,  20,  21,  22,  23,  24,  25,\n",
       "         26,  27,  28,  29,  30,  31,  32,  33,  34,  35,  36,  37,  38,\n",
       "         39,  40,  41,  42,  43,  44,  45,  46,  47,  48,  49,  50,  51,\n",
       "         52,  53,  54,  55,  56,  57,  58,  59,  60,  61,  62,  63,  64,\n",
       "         65,  66,  67,  68,  69,  70,  71,  72,  73,  74,  75,  76,  77,\n",
       "         78,  79,  80,  81,  82,  83,  84,  85,  86,  87,  88,  89,  90,\n",
       "         91,  92,  93,  94,  95,  96,  97,  98,  99, 100, 101, 102, 103,\n",
       "        104, 105, 106, 107, 108, 109, 110, 111, 112, 113, 114, 115, 116,\n",
       "        117, 118, 119, 120, 121, 122, 123, 124, 125, 126, 127, 128, 129,\n",
       "        130, 131, 132, 133, 134, 135, 136, 137, 138, 139, 140, 141, 142,\n",
       "        143, 144, 145, 146, 147, 148, 149, 150, 151, 152, 153, 154, 155,\n",
       "        156, 157, 158, 159, 160, 161, 162, 163, 164, 165, 166, 167, 168,\n",
       "        169, 170, 171, 172, 173, 174, 175, 176, 177, 178, 179, 180, 181,\n",
       "        182, 183, 184, 185, 186, 187, 188, 189, 190, 191, 192, 193, 194,\n",
       "        195, 196, 197, 198, 199, 200, 201, 202, 203, 204, 205, 206, 207,\n",
       "        208, 209, 210, 211, 212, 213, 214, 215, 216, 217, 218, 219, 220,\n",
       "        221, 222, 223, 224, 225, 226, 227, 228, 229, 230, 231, 232, 233,\n",
       "        234, 235, 236, 237, 238, 239, 240, 241, 242, 243, 244]),)"
      ]
     },
     "execution_count": 14,
     "metadata": {},
     "output_type": "execute_result"
    }
   ],
   "source": [
    "np.where(y_test == 1) "
   ]
  },
  {
   "cell_type": "code",
   "execution_count": 30,
   "id": "9cb296d0",
   "metadata": {},
   "outputs": [
    {
     "name": "stdout",
     "output_type": "stream",
     "text": [
      "Inference result: [[0.95156527]]\n"
     ]
    }
   ],
   "source": [
    "# Set input tensor to the interpreter\n",
    "interpreter.set_tensor(input_details[0]['index'], data.astype(np.float32))\n",
    "\n",
    "# Run inference\n",
    "interpreter.invoke()\n",
    "\n",
    "# Get the output tensor and post-process the results (example)\n",
    "output_data = interpreter.get_tensor(output_details[0]['index'])\n",
    "print(\"Inference result:\", output_data)"
   ]
  }
 ],
 "metadata": {
  "kernelspec": {
   "display_name": "Python 3",
   "language": "python",
   "name": "python3"
  },
  "language_info": {
   "codemirror_mode": {
    "name": "ipython",
    "version": 3
   },
   "file_extension": ".py",
   "mimetype": "text/x-python",
   "name": "python",
   "nbconvert_exporter": "python",
   "pygments_lexer": "ipython3",
   "version": "3.6.9"
  }
 },
 "nbformat": 4,
 "nbformat_minor": 5
}
